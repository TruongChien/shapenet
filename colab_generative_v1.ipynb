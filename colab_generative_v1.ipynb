{
 "nbformat": 4,
 "nbformat_minor": 0,
 "metadata": {
  "kernelspec": {
   "display_name": "Python 3",
   "language": "python",
   "name": "python3"
  },
  "language_info": {
   "codemirror_mode": {
    "name": "ipython",
    "version": 3
   },
   "file_extension": ".py",
   "mimetype": "text/x-python",
   "name": "python",
   "nbconvert_exporter": "python",
   "pygments_lexer": "ipython3",
   "version": "3.9.7"
  },
  "colab": {
   "name": "generative.ipynb",
   "provenance": [],
   "collapsed_sections": [],
   "machine_shape": "hm"
  },
  "accelerator": "GPU",
  "widgets": {
   "application/vnd.jupyter.widget-state+json": {
    "1ffa5aac1f694d62b70886f14b1ec139": {
     "model_module": "@jupyter-widgets/controls",
     "model_name": "HBoxModel",
     "model_module_version": "1.5.0",
     "state": {
      "_view_name": "HBoxView",
      "_dom_classes": [],
      "_model_name": "HBoxModel",
      "_view_module": "@jupyter-widgets/controls",
      "_model_module_version": "1.5.0",
      "_view_count": null,
      "_view_module_version": "1.5.0",
      "box_style": "",
      "layout": "IPY_MODEL_5233d8222a69403eb0b2babce82da41c",
      "_model_module": "@jupyter-widgets/controls",
      "children": [
       "IPY_MODEL_37f1299eeef848359cd71eab95309890",
       "IPY_MODEL_9735f1aa127942c98ff07362e7766646",
       "IPY_MODEL_644b300f5eda4b5ca488dcc42c1c5286"
      ]
     }
    },
    "5233d8222a69403eb0b2babce82da41c": {
     "model_module": "@jupyter-widgets/base",
     "model_name": "LayoutModel",
     "model_module_version": "1.2.0",
     "state": {
      "_view_name": "LayoutView",
      "grid_template_rows": null,
      "right": null,
      "justify_content": null,
      "_view_module": "@jupyter-widgets/base",
      "overflow": null,
      "_model_module_version": "1.2.0",
      "_view_count": null,
      "flex_flow": null,
      "width": null,
      "min_width": null,
      "border": null,
      "align_items": null,
      "bottom": null,
      "_model_module": "@jupyter-widgets/base",
      "top": null,
      "grid_column": null,
      "overflow_y": null,
      "overflow_x": null,
      "grid_auto_flow": null,
      "grid_area": null,
      "grid_template_columns": null,
      "flex": null,
      "_model_name": "LayoutModel",
      "justify_items": null,
      "grid_row": null,
      "max_height": null,
      "align_content": null,
      "visibility": null,
      "align_self": null,
      "height": null,
      "min_height": null,
      "padding": null,
      "grid_auto_rows": null,
      "grid_gap": null,
      "max_width": null,
      "order": null,
      "_view_module_version": "1.2.0",
      "grid_template_areas": null,
      "object_position": null,
      "object_fit": null,
      "grid_auto_columns": null,
      "margin": null,
      "display": null,
      "left": null
     }
    },
    "37f1299eeef848359cd71eab95309890": {
     "model_module": "@jupyter-widgets/controls",
     "model_name": "HTMLModel",
     "model_module_version": "1.5.0",
     "state": {
      "_view_name": "HTMLView",
      "style": "IPY_MODEL_bd05ad9fc8eb4b4a8c1ba0ee5957aafe",
      "_dom_classes": [],
      "description": "",
      "_model_name": "HTMLModel",
      "placeholder": "​",
      "_view_module": "@jupyter-widgets/controls",
      "_model_module_version": "1.5.0",
      "value": " 78%",
      "_view_count": null,
      "_view_module_version": "1.5.0",
      "description_tooltip": null,
      "_model_module": "@jupyter-widgets/controls",
      "layout": "IPY_MODEL_c318f0e4883a4775a2417aa14cab341c"
     }
    },
    "9735f1aa127942c98ff07362e7766646": {
     "model_module": "@jupyter-widgets/controls",
     "model_name": "FloatProgressModel",
     "model_module_version": "1.5.0",
     "state": {
      "_view_name": "ProgressView",
      "style": "IPY_MODEL_ab15002cf53e4cb78fd15c211c48a3ce",
      "_dom_classes": [],
      "description": "",
      "_model_name": "FloatProgressModel",
      "bar_style": "",
      "max": 500,
      "_view_module": "@jupyter-widgets/controls",
      "_model_module_version": "1.5.0",
      "value": 391,
      "_view_count": null,
      "_view_module_version": "1.5.0",
      "orientation": "horizontal",
      "min": 0,
      "description_tooltip": null,
      "_model_module": "@jupyter-widgets/controls",
      "layout": "IPY_MODEL_d66a5240e52247d38bae20b5ef61c070"
     }
    },
    "644b300f5eda4b5ca488dcc42c1c5286": {
     "model_module": "@jupyter-widgets/controls",
     "model_name": "HTMLModel",
     "model_module_version": "1.5.0",
     "state": {
      "_view_name": "HTMLView",
      "style": "IPY_MODEL_5ebd9ef4f1d94af4a21c744c546f66e3",
      "_dom_classes": [],
      "description": "",
      "_model_name": "HTMLModel",
      "placeholder": "​",
      "_view_module": "@jupyter-widgets/controls",
      "_model_module_version": "1.5.0",
      "value": " 391/500 [14:59&lt;08:40,  4.77s/it, total_epoch_loss=0.0364, early stop=2, out of=100]",
      "_view_count": null,
      "_view_module_version": "1.5.0",
      "description_tooltip": null,
      "_model_module": "@jupyter-widgets/controls",
      "layout": "IPY_MODEL_39d76c8dd1dd4b7fba7ec98b9b0b75bb"
     }
    },
    "bd05ad9fc8eb4b4a8c1ba0ee5957aafe": {
     "model_module": "@jupyter-widgets/controls",
     "model_name": "DescriptionStyleModel",
     "model_module_version": "1.5.0",
     "state": {
      "_view_name": "StyleView",
      "_model_name": "DescriptionStyleModel",
      "description_width": "",
      "_view_module": "@jupyter-widgets/base",
      "_model_module_version": "1.5.0",
      "_view_count": null,
      "_view_module_version": "1.2.0",
      "_model_module": "@jupyter-widgets/controls"
     }
    },
    "c318f0e4883a4775a2417aa14cab341c": {
     "model_module": "@jupyter-widgets/base",
     "model_name": "LayoutModel",
     "model_module_version": "1.2.0",
     "state": {
      "_view_name": "LayoutView",
      "grid_template_rows": null,
      "right": null,
      "justify_content": null,
      "_view_module": "@jupyter-widgets/base",
      "overflow": null,
      "_model_module_version": "1.2.0",
      "_view_count": null,
      "flex_flow": null,
      "width": null,
      "min_width": null,
      "border": null,
      "align_items": null,
      "bottom": null,
      "_model_module": "@jupyter-widgets/base",
      "top": null,
      "grid_column": null,
      "overflow_y": null,
      "overflow_x": null,
      "grid_auto_flow": null,
      "grid_area": null,
      "grid_template_columns": null,
      "flex": null,
      "_model_name": "LayoutModel",
      "justify_items": null,
      "grid_row": null,
      "max_height": null,
      "align_content": null,
      "visibility": null,
      "align_self": null,
      "height": null,
      "min_height": null,
      "padding": null,
      "grid_auto_rows": null,
      "grid_gap": null,
      "max_width": null,
      "order": null,
      "_view_module_version": "1.2.0",
      "grid_template_areas": null,
      "object_position": null,
      "object_fit": null,
      "grid_auto_columns": null,
      "margin": null,
      "display": null,
      "left": null
     }
    },
    "ab15002cf53e4cb78fd15c211c48a3ce": {
     "model_module": "@jupyter-widgets/controls",
     "model_name": "ProgressStyleModel",
     "model_module_version": "1.5.0",
     "state": {
      "_view_name": "StyleView",
      "_model_name": "ProgressStyleModel",
      "description_width": "",
      "_view_module": "@jupyter-widgets/base",
      "_model_module_version": "1.5.0",
      "_view_count": null,
      "_view_module_version": "1.2.0",
      "bar_color": null,
      "_model_module": "@jupyter-widgets/controls"
     }
    },
    "d66a5240e52247d38bae20b5ef61c070": {
     "model_module": "@jupyter-widgets/base",
     "model_name": "LayoutModel",
     "model_module_version": "1.2.0",
     "state": {
      "_view_name": "LayoutView",
      "grid_template_rows": null,
      "right": null,
      "justify_content": null,
      "_view_module": "@jupyter-widgets/base",
      "overflow": null,
      "_model_module_version": "1.2.0",
      "_view_count": null,
      "flex_flow": null,
      "width": null,
      "min_width": null,
      "border": null,
      "align_items": null,
      "bottom": null,
      "_model_module": "@jupyter-widgets/base",
      "top": null,
      "grid_column": null,
      "overflow_y": null,
      "overflow_x": null,
      "grid_auto_flow": null,
      "grid_area": null,
      "grid_template_columns": null,
      "flex": null,
      "_model_name": "LayoutModel",
      "justify_items": null,
      "grid_row": null,
      "max_height": null,
      "align_content": null,
      "visibility": null,
      "align_self": null,
      "height": null,
      "min_height": null,
      "padding": null,
      "grid_auto_rows": null,
      "grid_gap": null,
      "max_width": null,
      "order": null,
      "_view_module_version": "1.2.0",
      "grid_template_areas": null,
      "object_position": null,
      "object_fit": null,
      "grid_auto_columns": null,
      "margin": null,
      "display": null,
      "left": null
     }
    },
    "5ebd9ef4f1d94af4a21c744c546f66e3": {
     "model_module": "@jupyter-widgets/controls",
     "model_name": "DescriptionStyleModel",
     "model_module_version": "1.5.0",
     "state": {
      "_view_name": "StyleView",
      "_model_name": "DescriptionStyleModel",
      "description_width": "",
      "_view_module": "@jupyter-widgets/base",
      "_model_module_version": "1.5.0",
      "_view_count": null,
      "_view_module_version": "1.2.0",
      "_model_module": "@jupyter-widgets/controls"
     }
    },
    "39d76c8dd1dd4b7fba7ec98b9b0b75bb": {
     "model_module": "@jupyter-widgets/base",
     "model_name": "LayoutModel",
     "model_module_version": "1.2.0",
     "state": {
      "_view_name": "LayoutView",
      "grid_template_rows": null,
      "right": null,
      "justify_content": null,
      "_view_module": "@jupyter-widgets/base",
      "overflow": null,
      "_model_module_version": "1.2.0",
      "_view_count": null,
      "flex_flow": null,
      "width": null,
      "min_width": null,
      "border": null,
      "align_items": null,
      "bottom": null,
      "_model_module": "@jupyter-widgets/base",
      "top": null,
      "grid_column": null,
      "overflow_y": null,
      "overflow_x": null,
      "grid_auto_flow": null,
      "grid_area": null,
      "grid_template_columns": null,
      "flex": null,
      "_model_name": "LayoutModel",
      "justify_items": null,
      "grid_row": null,
      "max_height": null,
      "align_content": null,
      "visibility": null,
      "align_self": null,
      "height": null,
      "min_height": null,
      "padding": null,
      "grid_auto_rows": null,
      "grid_gap": null,
      "max_width": null,
      "order": null,
      "_view_module_version": "1.2.0",
      "grid_template_areas": null,
      "object_position": null,
      "object_fit": null,
      "grid_auto_columns": null,
      "margin": null,
      "display": null,
      "left": null
     }
    }
   }
  }
 },
 "cells": [
  {
   "cell_type": "markdown",
   "metadata": {
    "id": "ANB3P8Einwt2"
   },
   "source": [
    "# Shape Gen Graph Generative Models"
   ]
  },
  {
   "cell_type": "markdown",
   "metadata": {
    "id": "plUqwYF5oAEW"
   },
   "source": [
    "## Enviroments"
   ]
  },
  {
   "cell_type": "code",
   "metadata": {
    "id": "JMG2HDDft2f6"
   },
   "source": [
    "try:\n",
    "  import google.colab\n",
    "  IN_COLAB = True\n",
    "except:\n",
    "  IN_COLAB = False"
   ],
   "execution_count": 1,
   "outputs": []
  },
  {
   "cell_type": "markdown",
   "metadata": {
    "id": "-YxZ0wKxeezq"
   },
   "source": [
    "### Tensorboard"
   ]
  },
  {
   "cell_type": "markdown",
   "metadata": {
    "id": "udRQvHQte6gc"
   },
   "source": [
    "## Tensorboard\n",
    "\n",
    "First we need install a tensorboard, so we can track a progress and generation.\n"
   ]
  },
  {
   "cell_type": "code",
   "metadata": {
    "id": "8xTQvFTVeizq"
   },
   "source": [
    "#docker run -it -p 8888:8888 -p 6006:6006 \\\n",
    "#tensorflow/tensorflow:nightly-py3-jupyter"
   ],
   "execution_count": null,
   "outputs": []
  },
  {
   "cell_type": "markdown",
   "metadata": {
    "id": "jRifOdD4ekNb"
   },
   "source": [
    "### Git\n",
    "\n",
    "The shape gen abstract model and trainer,  please git clone a repo. When you done expand folder structure, it container all source code."
   ]
  },
  {
   "cell_type": "code",
   "metadata": {
    "colab": {
     "base_uri": "https://localhost:8080/"
    },
    "id": "5f0SoVMboFNb",
    "outputId": "cf396c56-603e-47d5-d091-ca06bb7e9d8d"
   },
   "source": [
    "!git clone https://github.com/spyroot/shapenet\n",
    "%cd shapenet\n",
    "!ls"
   ],
   "execution_count": 2,
   "outputs": [
    {
     "output_type": "stream",
     "name": "stdout",
     "text": [
      "fatal: destination path 'shapenet' already exists and is not an empty directory.\n",
      "/content/shapenet\n",
      "config.yaml\t  LICENSE    requirements.txt  start_tensorboard.sh\n",
      "generative.ipynb  main.py    setup.py\n",
      "__init__.py\t  README.md  shapegnet\n"
     ]
    }
   ]
  },
  {
   "cell_type": "code",
   "metadata": {
    "id": "Bp20QOqBoMXe"
   },
   "source": [
    "!apt-get update\n",
    "!apt install software-properties-common\n",
    "!apt-get upgrade\n",
    "!apt install -y build-essential zlib1g-dev libncurses5-dev libgdbm-dev libnss3-dev libssl-dev libreadline-dev libffi-dev libsqlite3-dev wget libbz2-dev\n",
    "!pip3 install --upgrade pip\n",
    "!apt install python3.8\n",
    "!apt install python3-pip\n",
    "!apt-get install -y python3-dev\n",
    "!apt-get install -y python3.8-dev\n",
    "!apt-get install -y libpython3.8-dev\n",
    "!pip3 install docutils\n",
    "!pip3 install pygments\n",
    "!pip3 install twine\n",
    "!pip3 install wheel\n",
    "!pip3 install pyemd\n",
    "!pip3 install rich\n",
    "!pip3 install python-louvain"
   ],
   "execution_count": null,
   "outputs": []
  },
  {
   "cell_type": "code",
   "metadata": {
    "id": "CdxpQfd_9I3M"
   },
   "source": [
    "!update-alternatives --install /usr/bin/python3 python /usr/bin/python3.8 1\n",
    "!update-alternatives --list python3\n",
    "!sudo update-alternatives --config python3\n",
    "!apt install python3-pip\n",
    "!python -m pip install --upgrade pip\n",
    "!python3 -m pip install --upgrade pip\n",
    "!python --version\n",
    "!pip3 --version"
   ],
   "execution_count": null,
   "outputs": []
  },
  {
   "cell_type": "code",
   "metadata": {
    "id": "_Me-woxJ4ER8"
   },
   "source": [
    "!pip3 install networkx==2.6.3\n",
    "!pip3 install zict==2.0.0\n",
    "!pip3 install pyemd\n",
    "!pip3 install yaml\n",
    "!pip3 install pandas~=1.3.4\n",
    "!pip3 install tqdm~=4.62.3\n",
    "!pip3 install pydot\n",
    "!pip3 install pyvista==0.32.1\n",
    "!pip3 install pyviz-comms==2.1.0\n",
    "!pip3 install fvcore\n",
    "!pip3 install pickleshare\n",
    "!pip3 install protobuf\n",
    "!pip3 install vtk\n",
    "!pip3 install PyYAML\n",
    "!pip3 install torch==1.10.0 -f https://data.pyg.org/whl/torch-1.10.0+cu112.html\n",
    "!pip3 install torchaudio==0.10.0 -f https://data.pyg.org/whl/torch-1.10.0+cu112.html\n",
    "!pip3 install torchvision==0.11.1 -f https://data.pyg.org/whl/torch-1.10.0+cu112.html\n",
    "!pip3 install torch-scatter -f https://data.pyg.org/whl/torch-1.10.0+cu112.html\n",
    "!pip3 install torch-sparse -f https://data.pyg.org/whl/torch-1.10.0+cu112.html\n",
    "!pip3 install torch-geometric\n",
    "!pip3 install tensorboard\n",
    "!pip3 matplotlib==3.4.3\n",
    "!pip3 matplotlib-inline==0.1.3\n",
    "!pip3 install scikit-learn\n",
    "!pip3 install scipy\n",
    "!pip3 install scooby\n",
    "!pip3 install seaborn\n",
    "!pip3 install pyyaml\n",
    "!pip3 install networkx==2.6.3\n",
    "!pip3 install zict==2.0.0\n",
    "!pip3 install pyemd\n",
    "!pip3 install yaml\n",
    "!pip3 install pyyaml\n",
    "!pip3 install pandas\n",
    "!pip3 install tqdm~=4.62.3\n",
    "!pip3 install pydot\n",
    "!pip3 install pyvista==0.32.1\n",
    "!pip3 install pyviz-comms==2.1.0\n",
    "!pip3 install fvcore\n",
    "!pip3 install pickleshare\n",
    "!pip3 install protobuf\n",
    "!pip3 install vtk\n",
    "!pip3 install PyYAML\n",
    "!pip3 install torch-geometric\n",
    "!pip3 matplotlib\n",
    "!pip3 matplotlib-inline\n",
    "!pip3 install scikit-learn\n",
    "!pip3 install scipy\n",
    "!pip3 install scooby\n",
    "!pip3 install seaborn\n",
    "!python -c \"import torch; print(torch.version.cuda)\"\n",
    "\n",
    "# widges fix\n",
    "!pip3 install tqdm\n",
    "!pip3 install ipywidgets \n",
    "#!jupyter nbextension enable --py widgetsnbextension\n",
    "#!jupyter labextension install @jupyter-widgets/jupyterlab-manager"
   ],
   "execution_count": null,
   "outputs": []
  },
  {
   "cell_type": "markdown",
   "metadata": {
    "id": "HJr4lZJgpQh6"
   },
   "source": [
    "### GPU\n",
    "\n",
    "We really need GPU to train this models"
   ]
  },
  {
   "cell_type": "code",
   "metadata": {
    "id": "TuTM56BtpRMi",
    "colab": {
     "base_uri": "https://localhost:8080/"
    },
    "outputId": "1b1d57f5-e628-4bef-b686-1c19b227be93"
   },
   "source": [
    "gpu_info = !nvidia-smi\n",
    "gpu_info = '\\n'.join(gpu_info)\n",
    "if gpu_info.find('failed') >= 0:\n",
    "  print('Not connected to a GPU')\n",
    "else:\n",
    "  print(gpu_info)\n",
    "\n",
    "!nvcc --version\n",
    "!python -c \"import torch; print(torch.version.cuda)\"\n",
    "!python3 -c \"import torch; print(torch.version.cuda)\""
   ],
   "execution_count": 4,
   "outputs": [
    {
     "output_type": "stream",
     "name": "stdout",
     "text": [
      "Mon Dec  6 01:51:12 2021       \n",
      "+-----------------------------------------------------------------------------+\n",
      "| NVIDIA-SMI 495.44       Driver Version: 460.32.03    CUDA Version: 11.2     |\n",
      "|-------------------------------+----------------------+----------------------+\n",
      "| GPU  Name        Persistence-M| Bus-Id        Disp.A | Volatile Uncorr. ECC |\n",
      "| Fan  Temp  Perf  Pwr:Usage/Cap|         Memory-Usage | GPU-Util  Compute M. |\n",
      "|                               |                      |               MIG M. |\n",
      "|===============================+======================+======================|\n",
      "|   0  Tesla P100-PCIE...  Off  | 00000000:00:04.0 Off |                    0 |\n",
      "| N/A   34C    P0    26W / 250W |      0MiB / 16280MiB |      0%      Default |\n",
      "|                               |                      |                  N/A |\n",
      "+-------------------------------+----------------------+----------------------+\n",
      "                                                                               \n",
      "+-----------------------------------------------------------------------------+\n",
      "| Processes:                                                                  |\n",
      "|  GPU   GI   CI        PID   Type   Process name                  GPU Memory |\n",
      "|        ID   ID                                                   Usage      |\n",
      "|=============================================================================|\n",
      "|  No running processes found                                                 |\n",
      "+-----------------------------------------------------------------------------+\n",
      "nvcc: NVIDIA (R) Cuda compiler driver\n",
      "Copyright (c) 2005-2020 NVIDIA Corporation\n",
      "Built on Mon_Oct_12_20:09:46_PDT_2020\n",
      "Cuda compilation tools, release 11.1, V11.1.105\n",
      "Build cuda_11.1.TC455_06.29190527_0\n",
      "11.1\n",
      "11.1\n"
     ]
    }
   ]
  },
  {
   "cell_type": "markdown",
   "metadata": {
    "id": "mbRJx17FdO6x"
   },
   "source": [
    "### Graph Encoder and Decoder\n"
   ]
  },
  {
   "cell_type": "code",
   "metadata": {
    "colab": {
     "base_uri": "https://localhost:8080/",
     "height": 498
    },
    "id": "10pnpc53ngXa",
    "outputId": "48f75fc9-3836-4cd2-a25b-dd36fb8abc0f"
   },
   "source": [
    "import networkx as nx\n",
    "import numpy as np\n",
    "import torch.utils as tutil\n",
    "\n",
    "np.random.seed(1234)\n",
    "\n",
    "random_graph = nx.erdos_renyi_graph(10, 0.4)\n",
    "original_graph = nx.to_numpy_array(random_graph)\n",
    "nx.draw(random_graph, with_labels=True)\n",
    "original_graph"
   ],
   "execution_count": 5,
   "outputs": [
    {
     "output_type": "execute_result",
     "data": {
      "text/plain": [
       "array([[0., 0., 1., 0., 0., 0., 0., 1., 1., 1.],\n",
       "       [0., 0., 1., 0., 1., 0., 0., 0., 0., 0.],\n",
       "       [1., 1., 0., 0., 1., 0., 0., 0., 0., 0.],\n",
       "       [0., 0., 0., 0., 1., 1., 0., 0., 0., 0.],\n",
       "       [0., 1., 1., 1., 0., 0., 1., 0., 0., 0.],\n",
       "       [0., 0., 0., 1., 0., 0., 1., 0., 0., 0.],\n",
       "       [0., 0., 0., 0., 1., 1., 0., 1., 1., 1.],\n",
       "       [1., 0., 0., 0., 0., 0., 1., 0., 1., 1.],\n",
       "       [1., 0., 0., 0., 0., 0., 1., 1., 0., 0.],\n",
       "       [1., 0., 0., 0., 0., 0., 1., 1., 0., 0.]])"
      ]
     },
     "metadata": {},
     "execution_count": 5
    },
    {
     "output_type": "display_data",
     "data": {
      "image/png": "[encoded data removed]",
      "text/plain": [
       "<Figure size 432x288 with 1 Axes>"
      ]
     },
     "metadata": {}
    }
   ]
  },
  {
   "cell_type": "markdown",
   "metadata": {
    "id": "hApMvHs6ngXd"
   },
   "source": [
    "## Encoder\n",
    " \n",
    " Let create test encoder and encoder our random graph first."
   ]
  },
  {
   "cell_type": "code",
   "metadata": {
    "pycharm": {
     "name": "#%%\n"
    },
    "colab": {
     "base_uri": "https://localhost:8080/"
    },
    "id": "-285-Lm2ngXe",
    "outputId": "e01c122a-bae5-4b01-a34c-80b582aa91e7"
   },
   "source": [
    "from shapegnet.models.adjacency_encoder import AdjacencyEncoder\n",
    "encoder = AdjacencyEncoder()\n",
    "encoded_adj = encoder.encode(original_graph.copy(), 10)\n",
    "encoded_adj"
   ],
   "execution_count": 7,
   "outputs": [
    {
     "output_type": "execute_result",
     "data": {
      "text/plain": [
       "array([[0., 0., 0., 0., 0., 0., 0., 0., 0., 0.],\n",
       "       [1., 1., 0., 0., 0., 0., 0., 0., 0., 0.],\n",
       "       [0., 0., 0., 0., 0., 0., 0., 0., 0., 0.],\n",
       "       [1., 1., 1., 0., 0., 0., 0., 0., 0., 0.],\n",
       "       [0., 1., 0., 0., 0., 0., 0., 0., 0., 0.],\n",
       "       [1., 1., 0., 0., 0., 0., 0., 0., 0., 0.],\n",
       "       [1., 0., 0., 0., 0., 0., 1., 0., 0., 0.],\n",
       "       [1., 1., 0., 0., 0., 0., 0., 1., 0., 0.],\n",
       "       [0., 1., 1., 0., 0., 0., 0., 0., 1., 0.]])"
      ]
     },
     "metadata": {},
     "execution_count": 7
    }
   ]
  },
  {
   "cell_type": "markdown",
   "metadata": {
    "id": "H-SzzmA5ngXe"
   },
   "source": [
    "## Decoder \n",
    "\n",
    "Now let's decode our graph back and visualize it and verify \n",
    "that we don't have any strange issues."
   ]
  },
  {
   "cell_type": "code",
   "metadata": {
    "pycharm": {
     "name": "#%%\n"
    },
    "id": "x1NHeelgngXf",
    "colab": {
     "base_uri": "https://localhost:8080/",
     "height": 319
    },
    "outputId": "03d5a261-8306-4935-885f-c0b5e90129c8"
   },
   "source": [
    "from shapegnet.models.adjacency_decoder import AdjacencyDecoder\n",
    "decoder = AdjacencyDecoder()\n",
    "decoded = decoder.decode(encoded_adj)\n",
    "decoded\n",
    "decoded_graph = nx.from_numpy_array(decoded, create_using=nx.MultiGraph)\n",
    "nx.draw(decoded_graph, with_labels=True)"
   ],
   "execution_count": 8,
   "outputs": [
    {
     "output_type": "display_data",
     "data": {
      "image/png": "[encoded data removed]",
      "text/plain": [
       "<Figure size 432x288 with 1 Axes>"
      ]
     },
     "metadata": {}
    }
   ]
  },
  {
   "cell_type": "markdown",
   "metadata": {
    "id": "k_B6Ge_qngXf"
   },
   "source": [
    "## Metric Computation\n",
    "Now let compute metric between two graph in simular way as it describe in GraphRNN\n",
    "and NetGAN paper"
   ]
  },
  {
   "cell_type": "code",
   "metadata": {
    "pycharm": {
     "name": "#%%\n"
    },
    "id": "LJtj0BTrngXg",
    "colab": {
     "base_uri": "https://localhost:8080/",
     "height": 384
    },
    "outputId": "71d1ac4a-f760-497a-9794-6c14952f57ae"
   },
   "source": [
    "from shapegnet.external.stats import degree_stats, clustering_stats, orbit_stats_all\n",
    "mmd_degree = degree_stats([random_graph], [decoded_graph])\n",
    "mmd_degree\n",
    "# This two computation are heavy and I ported C++ code but for now it suffice\n",
    "# to understand we want compute degree , clustering and orbits between graphs.\n",
    "# we will use it later to compute metrics.\n",
    "# mmd_clustering = clustering_stats(original_graph, [decoded_graph])\n",
    "# mmd_clustering\n",
    "# mmd_4orbits = orbit_stats_all(original_graph, [decoded_graph])\n",
    "# mmd_clustering\n",
    "#"
   ],
   "execution_count": 9,
   "outputs": [
    {
     "output_type": "error",
     "ename": "ModuleNotFoundError",
     "evalue": "ignored",
     "traceback": [
      "\u001B[0;31m---------------------------------------------------------------------------\u001B[0m",
      "\u001B[0;31mModuleNotFoundError\u001B[0m                       Traceback (most recent call last)",
      "\u001B[0;32m<ipython-input-9-cec49ffcf4fb>\u001B[0m in \u001B[0;36m<module>\u001B[0;34m()\u001B[0m\n\u001B[0;32m----> 1\u001B[0;31m \u001B[0;32mfrom\u001B[0m \u001B[0mshapegnet\u001B[0m\u001B[0;34m.\u001B[0m\u001B[0mexternal\u001B[0m\u001B[0;34m.\u001B[0m\u001B[0mstats\u001B[0m \u001B[0;32mimport\u001B[0m \u001B[0mdegree_stats\u001B[0m\u001B[0;34m,\u001B[0m \u001B[0mclustering_stats\u001B[0m\u001B[0;34m,\u001B[0m \u001B[0morbit_stats_all\u001B[0m\u001B[0;34m\u001B[0m\u001B[0;34m\u001B[0m\u001B[0m\n\u001B[0m\u001B[1;32m      2\u001B[0m \u001B[0mmmd_degree\u001B[0m \u001B[0;34m=\u001B[0m \u001B[0mdegree_stats\u001B[0m\u001B[0;34m(\u001B[0m\u001B[0;34m[\u001B[0m\u001B[0mrandom_graph\u001B[0m\u001B[0;34m]\u001B[0m\u001B[0;34m,\u001B[0m \u001B[0;34m[\u001B[0m\u001B[0mdecoded_graph\u001B[0m\u001B[0;34m]\u001B[0m\u001B[0;34m)\u001B[0m\u001B[0;34m\u001B[0m\u001B[0;34m\u001B[0m\u001B[0m\n\u001B[1;32m      3\u001B[0m \u001B[0mmmd_degree\u001B[0m\u001B[0;34m\u001B[0m\u001B[0;34m\u001B[0m\u001B[0m\n\u001B[1;32m      4\u001B[0m \u001B[0;31m# This two computation are heavy and I ported C++ code but for now it suffice\u001B[0m\u001B[0;34m\u001B[0m\u001B[0;34m\u001B[0m\u001B[0;34m\u001B[0m\u001B[0m\n\u001B[1;32m      5\u001B[0m \u001B[0;31m# to understand we want compute degree , clustering and orbits between graphs.\u001B[0m\u001B[0;34m\u001B[0m\u001B[0;34m\u001B[0m\u001B[0;34m\u001B[0m\u001B[0m\n",
      "\u001B[0;31mModuleNotFoundError\u001B[0m: No module named 'shapegnet.external.stats'",
      "",
      "\u001B[0;31m---------------------------------------------------------------------------\u001B[0;32m\nNOTE: If your import is failing due to a missing package, you can\nmanually install dependencies using either !pip or !apt.\n\nTo view examples of installing some common dependencies, click the\n\"Open Examples\" button below.\n\u001B[0;31m---------------------------------------------------------------------------\u001B[0m\n"
     ],
     "errorDetails": {
      "actions": [
       {
        "action": "open_url",
        "actionText": "Open Examples",
        "url": "/notebooks/snippets/importing_libraries.ipynb"
       }
      ]
     }
    }
   ]
  },
  {
   "cell_type": "markdown",
   "metadata": {
    "id": "sZKPBUhxngXg"
   },
   "source": [
    "## Graph Rnn BFS Ordering.\n",
    "\n",
    "- In case of Graph RNN we need compute BFS order.\n",
    "- First let create sample graph lader topology and\n",
    "\n",
    "Note there are many generators we can use.  Please check for details\n",
    "https://networkx.org/documentation/stable/reference/generators.html\n",
    "\n",
    "For this step we only need small graph to undestand how we compute\n",
    "BFS order at each step."
   ]
  },
  {
   "cell_type": "code",
   "metadata": {
    "pycharm": {
     "name": "#%%\n"
    },
    "colab": {
     "base_uri": "https://localhost:8080/",
     "height": 1000
    },
    "id": "jc6SeWtEngXh",
    "outputId": "e7305904-24e1-4b0d-958e-e9c023a1aa5c"
   },
   "source": [
    "from queue import LifoQueue as stack\n",
    "from queue import SimpleQueue as queue\n",
    "\n",
    "import networkx as nx\n",
    "import pylab as plt\n",
    "from IPython.core.display import HTML, display\n",
    "\n",
    "# import pygraphviz\n",
    "# from networkx.drawing.nx_agraph import graphviz_layout\n",
    "\n",
    "\n",
    "def bfs_seq(input_graph, start_id):\n",
    "    \"\"\"\n",
    "     Get a bfs node sequence.\n",
    "\n",
    "    :param input_graph:\n",
    "    :param start_id:\n",
    "    :return:\n",
    "    \"\"\"\n",
    "    dictionary = dict(nx.bfs_successors(input_graph, start_id))\n",
    "    start = [start_id]\n",
    "    output = [start_id]\n",
    "\n",
    "    while len(start) > 0:\n",
    "        frontier = []\n",
    "        while len(start) > 0:\n",
    "            current = start.pop(0)\n",
    "            neighbor = dictionary.get(current)\n",
    "            if neighbor is not None:\n",
    "                frontier = frontier + neighbor\n",
    "        output = output + frontier\n",
    "        start = frontier\n",
    "    return output\n",
    "\n",
    "\n",
    "def gc(qe):\n",
    "    if not qe.empty():\n",
    "        while not qe.empty():\n",
    "            qe.get()\n",
    "\n",
    "\n",
    "def bdfs(graph : nx.classes.graph.Graph, start, goal, search='dfs'):\n",
    "    \"\"\"\n",
    "    This is a template. Taking fringe = stack() gives DFS and\n",
    "    fringe = queue() gives BFS. We need to add a priority function to get UCS.\n",
    "\n",
    "    Usage: bp = bdfs(graph, start, goal, queue_or_stack = stack()) (this is dfs)\n",
    "           bp = bdfs(graph, start, goal, queue_or_stack = queue()) (this is bfs)\n",
    "    \"\"\"\n",
    "    depth = {}\n",
    "    if search == 'dfs':\n",
    "        queue_or_stack = stack()\n",
    "        weight = -1\n",
    "    else:\n",
    "        queue_or_stack = queue()\n",
    "        weight = 1\n",
    "\n",
    "    gc(queue_or_stack)\n",
    "    current = start\n",
    "    closed = set()\n",
    "    back_pointer = {}\n",
    "    depth[start] = 0\n",
    "    queue_or_stack.put(current)\n",
    "\n",
    "    while True:\n",
    "        if queue_or_stack.empty():\n",
    "            return None\n",
    "        while True:\n",
    "            current = queue_or_stack.get()\n",
    "            if current not in closed:\n",
    "                break\n",
    "            if queue_or_stack.empty():\n",
    "                return None\n",
    "\n",
    "        closed.add(current)\n",
    "        if current == goal:\n",
    "            return back_pointer\n",
    "\n",
    "        if graph[current]:\n",
    "            for node in graph[current]:\n",
    "                if node not in closed:\n",
    "                    node_depth = depth[current] + weight\n",
    "                    if node not in depth or node_depth < depth[node]:\n",
    "                        back_pointer[node] = current\n",
    "                        depth[node] = node_depth\n",
    "                    queue_or_stack.put(node)\n",
    "\n",
    "\n",
    "def dfs(graph : nx.classes.graph.Graph, start, goal):\n",
    "    return bdfs(graph, start, goal, search='dfs')\n",
    "\n",
    "\n",
    "def bfs(graph : nx.classes.graph.Graph, start, goal):\n",
    "    return bdfs(graph, start, goal, search='bfs')\n",
    "\n",
    "\n",
    "def get_gr(digraph=True):\n",
    "    if digraph:\n",
    "        return nx.DiGraph()\n",
    "    else:\n",
    "        return nx.Graph()\n",
    "\n",
    "\n",
    "def adj2graph(graph : nx.classes.graph.Graph, digraph=True):\n",
    "    \"\"\"\n",
    "    for list representation of adj\n",
    "    \"\"\"\n",
    "    gr = get_gr(digraph=digraph)\n",
    "    for node in graph:\n",
    "        gr.add_node(node)\n",
    "        if graph[node]:\n",
    "            for adj in graph[node]:\n",
    "                gr.add_edge(node, adj)\n",
    "                gr[node][adj]['weight'] = graph[node][adj]\n",
    "    return gr\n",
    "\n",
    "\n",
    "def edges_color(graph : nx.classes.graph.Graph, bfs_edge):\n",
    "    \"\"\"\n",
    "    Return edge color and edge weight for a bfs path\n",
    "    \"\"\"\n",
    "    edge_col = ['purple' if e in bfs_edge else 'blue' if e in bfs_edge else 'orange' for e in graph.edges()]\n",
    "    edge_width = [3 if e in bfs_edge else 1 for e in graph.edges()]\n",
    "    return edge_col, edge_width\n",
    "\n",
    "\n",
    "def show_graph(graph : nx.classes.graph.Graph, start: int, goal: int, node_labels='default',\n",
    "               node_pos='neato', plot_size=(14, 14), file_name=None, is_digraph=True):\n",
    "    \"\"\"\n",
    "    node_labels label to use: 'default', 'none', or a list of labels to use.\n",
    "    file_name -  a file nama 'my_graph.png'\n",
    "    \"\"\"\n",
    "    fig, ax = plt.subplots(figsize=plot_size)\n",
    "    Gr = g\n",
    "\n",
    "    if node_pos == 'project_layout':\n",
    "        node_pos = dict(zip(Gr.nodes(), [(b, 9 - a) for a, b in Gr.nodes()]))\n",
    "    else:\n",
    "        node_pos = nx.nx_pydot.graphviz_layout(Gr, prog=node_pos, root=start)\n",
    "\n",
    "    edge_weight = nx.get_edge_attributes(Gr, 'weight')\n",
    "\n",
    "    def path_edges(_path):\n",
    "        \"\"\"\n",
    "        @param _path:\n",
    "        @return:\n",
    "        \"\"\"\n",
    "        edges = list(zip(_path[:-1], _path[1:]))\n",
    "        # print(type(Gr[z[0]][z[1])\n",
    "        # cost = sum([Gr[z[0]][z[1]]['weight'] for z in edges])\n",
    "        if not is_digraph:\n",
    "            edges += list(zip(_path[1:], _path[:-1]))\n",
    "        return edges, 1\n",
    "\n",
    "    bfs_path = getPath(bdfs(graph, start, goal, search='bfs'), start, goal)\n",
    "    bfs_edge, bfs_cost = path_edges(bfs_path)\n",
    "\n",
    "    node_col = ['red' if node in bfs_path else 'lightgray' for node in Gr.nodes()]\n",
    "\n",
    "    if node_labels == 'default':\n",
    "        nodes = nx.draw_networkx_nodes(Gr, node_pos, ax=ax, node_color=node_col, node_size=400)\n",
    "        nodes.set_edgecolor('k')\n",
    "        nx.draw_networkx_labels(Gr, node_pos, ax=ax, font_size=8)\n",
    "    elif node_labels == 'none':\n",
    "        nodes = nx.draw_networkx_nodes(Gr, node_pos, ax=ax, node_color=node_col, node_size=50)\n",
    "    else:\n",
    "        # labels must be a list\n",
    "        nodes = nx.draw_networkx_nodes(Gr, node_pos, ax=ax, node_color=node_col, node_size=400)\n",
    "        nodes.set_edgecolor('k')\n",
    "        mapping = dict(zip(Gr.nodes, node_labels))\n",
    "        nx.draw_networkx_labels(Gr, node_pos, labels=mapping, ax=ax, font_size=8)\n",
    "\n",
    "    edge_col, edge_width = edges_color(Gr, bfs_edge)\n",
    "\n",
    "    if is_digraph:\n",
    "        nx.draw_networkx_edge_labels(Gr, node_pos, ax=ax, label_pos=0.3, edge_labels=edge_weight)\n",
    "    else:\n",
    "        nx.draw_networkx_edge_labels(Gr, node_pos, ax=ax, edge_labels=edge_weight)\n",
    "    nx.draw_networkx_edges(Gr, node_pos, ax=ax, edge_color=edge_col, width=edge_width, alpha=.3)\n",
    "\n",
    "    if file_name:\n",
    "        plt.savefig(file_name)\n",
    "\n",
    "    plt.show()\n",
    "    display(HTML())\n",
    "\n",
    "\n",
    "def getPath(bp, start: int, goal : int):\n",
    "    \"\"\"\n",
    "    @param bp: back pointer\n",
    "    @param start:\n",
    "    @param goal:\n",
    "    @return:\n",
    "    \"\"\"\n",
    "    current = goal\n",
    "    s = [current]\n",
    "    while current != start:\n",
    "        current = bp[current]\n",
    "        s += [current]\n",
    "    return list(reversed(s))\n",
    "\n",
    "\n",
    "# create test graph\n",
    "g = nx.ladder_graph(4)\n",
    "# get ordered at level bfs\n",
    "paths = bfs_seq(g, 0)\n",
    "# display each step\n",
    "for path in paths:\n",
    "    show_graph(g, 0, path, plot_size=(6, 6))\n",
    "# ladder_graph(n)\n",
    "print(paths)"
   ],
   "execution_count": 10,
   "outputs": [
    {
     "output_type": "display_data",
     "data": {
      "image/png": "[encoded data removed]",
      "text/plain": [
       "<Figure size 432x432 with 1 Axes>"
      ]
     },
     "metadata": {}
    },
    {
     "output_type": "display_data",
     "data": {
      "text/plain": [
       "<IPython.core.display.HTML object>"
      ]
     },
     "metadata": {}
    },
    {
     "output_type": "display_data",
     "data": {
      "image/png": "[encoded data removed]",
      "text/plain": [
       "<Figure size 432x432 with 1 Axes>"
      ]
     },
     "metadata": {}
    },
    {
     "output_type": "display_data",
     "data": {
      "text/plain": [
       "<IPython.core.display.HTML object>"
      ]
     },
     "metadata": {}
    },
    {
     "output_type": "display_data",
     "data": {
      "image/png": "[encoded data removed]",
      "text/plain": [
       "<Figure size 432x432 with 1 Axes>"
      ]
     },
     "metadata": {}
    },
    {
     "output_type": "display_data",
     "data": {
      "text/plain": [
       "<IPython.core.display.HTML object>"
      ]
     },
     "metadata": {}
    },
    {
     "output_type": "display_data",
     "data": {
      "image/png": "[encoded data removed]",
      "text/plain": [
       "<Figure size 432x432 with 1 Axes>"
      ]
     },
     "metadata": {}
    },
    {
     "output_type": "display_data",
     "data": {
      "text/plain": [
       "<IPython.core.display.HTML object>"
      ]
     },
     "metadata": {}
    },
    {
     "output_type": "display_data",
     "data": {
      "image/png": "[encoded data removed]",
      "text/plain": [
       "<Figure size 432x432 with 1 Axes>"
      ]
     },
     "metadata": {}
    },
    {
     "output_type": "display_data",
     "data": {
      "text/plain": [
       "<IPython.core.display.HTML object>"
      ]
     },
     "metadata": {}
    },
    {
     "output_type": "display_data",
     "data": {
      "image/png": "[encoded data removed]",
      "text/plain": [
       "<Figure size 432x432 with 1 Axes>"
      ]
     },
     "metadata": {}
    },
    {
     "output_type": "display_data",
     "data": {
      "text/plain": [
       "<IPython.core.display.HTML object>"
      ]
     },
     "metadata": {}
    },
    {
     "output_type": "display_data",
     "data": {
      "image/png": "[encoded data removed]",
      "text/plain": [
       "<Figure size 432x432 with 1 Axes>"
      ]
     },
     "metadata": {}
    },
    {
     "output_type": "display_data",
     "data": {
      "text/plain": [
       "<IPython.core.display.HTML object>"
      ]
     },
     "metadata": {}
    },
    {
     "output_type": "display_data",
     "data": {
      "image/png": "[encoded data removed]",
      "text/plain": [
       "<Figure size 432x432 with 1 Axes>"
      ]
     },
     "metadata": {}
    },
    {
     "output_type": "display_data",
     "data": {
      "text/plain": [
       "<IPython.core.display.HTML object>"
      ]
     },
     "metadata": {}
    },
    {
     "output_type": "stream",
     "name": "stdout",
     "text": [
      "[0, 1, 4, 2, 5, 3, 6, 7]\n"
     ]
    }
   ]
  },
  {
   "cell_type": "markdown",
   "metadata": {
    "id": "oHzMEN2AngXj"
   },
   "source": [
    "### Trainer configuration"
   ]
  },
  {
   "cell_type": "code",
   "metadata": {
    "pycharm": {
     "name": "#%%\n"
    },
    "id": "7QRvg0XrngXj"
   },
   "source": [
    "trainer_config =\"\"\"\n",
    "train: True                 # train or not,  default is True for generation we only need load pre-trained model\n",
    "active: 'grid_small'        # dataset set generated.\n",
    "use_model: 'GraphGruRnn'    # model to use , it must be defined in models section.\n",
    "draw_prediction: True       # at the of training draw.  (TODO here now it will draw last epocs)\n",
    "load_model: True            # load model or not, and what\n",
    "load_epoch: 500             # load model.  last epoch\n",
    "save_model: True            # save model,\n",
    "regenerate: True            # regenerated,  factor when indicated by epochs_save\n",
    "active_setting: mini        # indicate what setting to use, so we can switch from debug to production\n",
    "evaluate: True\n",
    "\n",
    "early_stopping:\n",
    "  monitor: loss\n",
    "  min_delta:\n",
    "  patience: 100\n",
    "  mode: max\n",
    "\n",
    "settings:\n",
    "  # debug mode\n",
    "  debug:\n",
    "    epochs_log:  1000\n",
    "    start_test:  10\n",
    "    epochs_test: 10\n",
    "    epochs_save: 10\n",
    "  # baseline\n",
    "  mini:\n",
    "    # if we need enable early stopping\n",
    "    early_stopping: True\n",
    "    epochs_log: 1000\n",
    "    start_test: 10\n",
    "    epochs_test: 10\n",
    "    epochs_save: 50\n",
    "  # baseline\n",
    "  baseline:\n",
    "    early_stopping: True\n",
    "    epochs_log:  1000\n",
    "    start_test:  100\n",
    "    epochs_test: 100\n",
    "    epochs_save: 100\n",
    "\n",
    "debug:\n",
    "  # debug graph generation\n",
    "  graph_generator: True\n",
    "  # benchmark dataset loader and sampler, if it true it will return after benchmark\n",
    "  benchmark_read: False\n",
    "  # debug model creation\n",
    "  model_creation: False\n",
    "  # debug training loops\n",
    "  train_verbose:  False\n",
    "  # trace early stopping\n",
    "  trace_early:    False\n",
    "\n",
    "training:\n",
    "  train_ratio: 0.8\n",
    "  test_ration: 0.8\n",
    "  validation_ratio: 0.2     # validation ration\n",
    "  num_workers: 1            # num workers to load data, default 4\n",
    "  batch_ratio: 32           # num  batches of samples per each epoch, 1 epoch = n batches\n",
    "  sample_time: 1            # default num sample, note each dataset can overwrite\n",
    "\n",
    "optimizers:\n",
    "  node_optimizer:\n",
    "    eps: 1e-8\n",
    "    weight_decay: 0\n",
    "    amsgrad: False\n",
    "    momentum=0:\n",
    "    betas: [0.9, 0.999]\n",
    "    type: Adam\n",
    "  edge_optimizer:\n",
    "    eps: 1e-8\n",
    "    weight_decay: 0\n",
    "    amsgrad: False\n",
    "    momentum=0:\n",
    "    betas: [ 0.9, 0.999 ]\n",
    "    type: Adam\n",
    "\n",
    "# lr_schedulers definition\n",
    "lr_schedulers:\n",
    "    - type: multistep\n",
    "      milestones: [ 400, 1000 ]\n",
    "      name: main_lr_scheduler\n",
    "    - type: secondary\n",
    "      milestones: [ 400, 1000 ]\n",
    "      name: secondary\n",
    "\n",
    "# Model definition\n",
    "models:\n",
    "  # this pure model specific, single model can describe both edges and nodes\n",
    "  # in case we need use single model for edge and node prediction task ,\n",
    "  # use keyword single_model: model_name\n",
    "  GraphGruRnn:\n",
    "    node_model:\n",
    "      model: GraphGRU\n",
    "      optimizer: node_optimizer\n",
    "      lr_scheduler: main_lr_scheduler\n",
    "      has_input: True\n",
    "      has_output: True\n",
    "    edge_model:\n",
    "      model: GraphGRU\n",
    "      optimizer: edge_optimizer\n",
    "      lr_scheduler: main_lr_scheduler\n",
    "      input_size: 1\n",
    "  GraphLstmRnn:\n",
    "    node_model:\n",
    "      model: GraphLSTM\n",
    "      optimizer: node_optimizer\n",
    "      lr_scheduler: main_lr_scheduler\n",
    "      has_input: True\n",
    "      has_output: True\n",
    "    edge_model:\n",
    "      model: GraphLSTM\n",
    "      optimizer: edge_optimizer\n",
    "      lr_scheduler: main_lr_scheduler\n",
    "      input_size: 1\n",
    "\n",
    "plots:\n",
    "  limit: 100\n",
    "\n",
    "metrics:\n",
    "  degree: True\n",
    "  orbits: True\n",
    "  clustering: True\n",
    "\n",
    "trace_prediction_timer: True\n",
    "trace_training_timer: True\n",
    "trace_epocs: 1\n",
    "\n",
    "graph:\n",
    "   # multiplied (640x10 and 15x32)\n",
    "\n",
    "  # Generated Grid\n",
    "  grid:\n",
    "    # https://networkx.org/documentation/stable/reference/generated/networkx.generators.lattice.grid_2d_graph.html\n",
    "    epochs: 100\n",
    "    parameter_shrink: 1\n",
    "    batch_size: 32\n",
    "    test_batch_size: 32\n",
    "    test_total_size: 1000\n",
    "    num_layers: 4\n",
    "    lr: 0.003\n",
    "    milestones: [ 400, 1000 ]\n",
    "    lr_rate: 0.3\n",
    "    graph_spec:\n",
    "      grid_n: [ 10, 20 ]\n",
    "      grid_m: [ 10, 20 ]\n",
    "    max_num_node: 0\n",
    "    max_prev_node: 40\n",
    "  # just to test code logic\n",
    "  grid_min:\n",
    "    epochs: 100\n",
    "    parameter_shrink: 2\n",
    "    batch_size: 32\n",
    "    test_batch_size: 32\n",
    "    test_total_size: 1000\n",
    "    num_layers: 4\n",
    "    lr: 0.003\n",
    "    milestones: [ 400, 1000 ]\n",
    "    lr_rate: 0.3\n",
    "    graph_spec:\n",
    "      grid_n: [ 2, 5 ]\n",
    "      grid_m: [ 2, 6 ]\n",
    "    #    max_num_node: 10\n",
    "    max_prev_node: 15\n",
    "  grid_small:\n",
    "    epochs: 500\n",
    "    parameter_shrink: 2\n",
    "    batch_size: 32\n",
    "    test_batch_size: 32\n",
    "    test_total_size: 1000\n",
    "    num_layers: 4\n",
    "    lr: 0.003\n",
    "    milestones: [ 400, 1000 ]\n",
    "    lr_rate: 0.3\n",
    "    graph_spec:\n",
    "      grid_n: [ 2, 5 ]\n",
    "      grid_m: [ 2, 6 ]\n",
    "#    max_num_node: 10\n",
    "    max_prev_node: 15\n",
    "  # Generated Community\n",
    "  caveman:\n",
    "    epochs: 20\n",
    "    parameter_shrink: 1\n",
    "    batch_size: 32\n",
    "    test_batch_size: 32\n",
    "    test_total_size: 1000\n",
    "    num_layers: 4\n",
    "    lr: 0.003\n",
    "    milestones: [ 400, 1000 ]\n",
    "    lr_rate: 0.3\n",
    "    graph_spec:\n",
    "      size_of_cliques: 10\n",
    "      num_of_cliques_i: [ 2, 3 ]\n",
    "      num_of_cliques_j: [ 30, 81 ]\n",
    "      p_edge: 0.8\n",
    "    # max number num nodes\n",
    "    max_num_node: 100\n",
    "    # max nodes\n",
    "    max_prev_node: 100\n",
    "  # small caveman community network.\n",
    "  # check networkx doc for details\n",
    "  caveman_small:\n",
    "    epochs: 20\n",
    "    num_layers: 4\n",
    "    parameter_shrink: 2\n",
    "    test_batch_size: 32\n",
    "    test_total_size: 1000\n",
    "    batch_size: 32\n",
    "    milestones: [ 400, 1000 ]\n",
    "    lr: 0.003\n",
    "    lr_rate: 0.3\n",
    "    # graph specs\n",
    "    graph_spec:\n",
    "      size_of_cliques: 20\n",
    "      num_of_cliques_i: [2, 3]\n",
    "      num_of_cliques_j: [6, 11]\n",
    "      p_edge: 0.3\n",
    "      # max number num nodes\n",
    "    max_num_node: 20\n",
    "    # max nodes\n",
    "    max_prev_node: 20\n",
    "\n",
    "root_dir: \".\"\n",
    "log_dir: \"logs\"\n",
    "nil_dir: \"timing\"\n",
    "graph_dir: \"graphs\"\n",
    "results_dir: \"results\"\n",
    "timing_dir: \"timing\"\n",
    "figures_dir: \"figures\"\n",
    "prediction_dir: \"prediction\"                     # where we save prediction\n",
    "model_save_dir: \"model_save\"                     # where we save model\n",
    "#figures_prediction_dir: \"prediction_figures\"    #\n",
    "\"\"\""
   ],
   "execution_count": 11,
   "outputs": []
  },
  {
   "cell_type": "markdown",
   "metadata": {
    "id": "UZwMX09TngXl"
   },
   "source": [
    "Let's create model trainer class\n"
   ]
  },
  {
   "cell_type": "code",
   "metadata": {
    "id": "h6s9y9eZwOHt"
   },
   "source": [
    "!ls shapegnet/\n",
    "!pip install ipykernel\n",
    "!pip install ipython\n",
    "!pip install ipykernel\n",
    "!pip install tornado\n",
    "!pip install prompt-toolkit \n",
    "!pip install pyzmq\n",
    "!git pull\n",
    "!python main.py"
   ],
   "execution_count": null,
   "outputs": []
  },
  {
   "cell_type": "code",
   "metadata": {
    "id": "FvcYZfREHn0P"
   },
   "source": [
    "# this is pyemd requirmnets\n",
    "!apt-get install -y python3-dev\n",
    "!apt-get install -y python3.8-dev\n",
    "!apt-get install -y libpython3.8-dev\n",
    "!pip install docutils\n",
    "!pip install pygments\n",
    "!pip install twine\n",
    "!pip install wheel\n",
    "!pip install pyemd\n",
    "!pip install rich\n",
    "!pip install python-louvain\n",
    "# widges fix\n",
    "!pip install tqdm\n",
    "!pip install ipywidgets \n",
    "#!jupyter nbextension enable --py widgetsnbextension\n",
    "#!jupyter labextension install @jupyter-widgets/jupyterlab-manager\n",
    "!pip install PyYAML"
   ],
   "execution_count": null,
   "outputs": []
  },
  {
   "cell_type": "code",
   "metadata": {
    "pycharm": {
     "name": "#%%\n"
    },
    "colab": {
     "base_uri": "https://localhost:8080/"
    },
    "id": "8eRa6f7CngXl",
    "outputId": "80f2a9e4-a040-4cb5-9422-b134c4bc2593"
   },
   "source": [
    "import io\n",
    "from typing import Dict, List, Set, Tuple\n",
    "from shapegnet import create_graphs\n",
    "from shapegnet.external.graphrnn_eval.stats import degree_stats, clustering_stats, orbit_stats_all\n",
    "from shapegnet.generator_trainer import GeneratorTrainer\n",
    "from shapegnet.model_config import ModelSpecs\n",
    "from shapegnet.models.adjacency_decoder import AdjacencyDecoder\n",
    "from shapegnet.models.sampler.GraphSeqSampler import GraphSeqSampler\n",
    "from shapegnet.plotlib import plot\n",
    "from shapegnet.plotlib.plot import draw_single_graph\n",
    "from shapegnet.utils import fmt_print, fmtl_print\n",
    "trainer_spec = ModelSpecs(template_file_name=io.StringIO(trainer_config), verbose=True)"
   ],
   "execution_count": 12,
   "outputs": [
    {
     "output_type": "stream",
     "name": "stdout",
     "text": [
      "Device:                          cuda\n",
      "Reading from io buffer\n"
     ]
    }
   ]
  },
  {
   "cell_type": "markdown",
   "metadata": {
    "id": "v730OkhEngXm"
   },
   "source": [
    "Let define main traning loop"
   ]
  },
  {
   "cell_type": "code",
   "metadata": {
    "pycharm": {
     "name": "#%%\n"
    },
    "id": "uJRUupuEngXm"
   },
   "source": [
    "import sys\n",
    "from shapegnet.models.sampler.GraphSeqSampler import GraphSeqSampler\n",
    "import argparse\n",
    "import random\n",
    "import sys\n",
    "import time\n",
    "from datetime import time\n",
    "from datetime import timedelta\n",
    "#from typing import Final\n",
    "\n",
    "import numpy as np\n",
    "import torch\n",
    "import torch.utils as tutil\n",
    "import pandas as pd\n",
    "\n",
    "from shapegnet import create_graphs\n",
    "from shapegnet.external.graphrnn_eval.stats import degree_stats, clustering_stats, orbit_stats_all\n",
    "from shapegnet.generator_trainer import GeneratorTrainer\n",
    "from shapegnet.model_config import ModelSpecs\n",
    "from shapegnet.model_creator import ModelCreator\n",
    "from shapegnet.models.adjacency_decoder import AdjacencyDecoder\n",
    "from shapegnet.models.sampler.GraphSeqSampler import GraphSeqSampler\n",
    "from shapegnet.plotlib import plot\n",
    "from shapegnet.plotlib.plot import draw_single_graph\n",
    "from shapegnet.utils import fmt_print, fmtl_print\n",
    "device = torch.device(\"cuda\" if torch.cuda.is_available() else \"cpu\")\n",
    "\n",
    "\n",
    "TRAIN = 1\n",
    "TEST = 2\n",
    "PREDICTION = 3\n",
    "\n",
    "def generate_train_test(g, specs: ModelSpecs, is_fix_seed=True, is_shuffled=True):\n",
    "    \"\"\"\n",
    "    Generate test , train , validation split\n",
    "    \"\"\"\n",
    "    # split datasets\n",
    "    if is_fix_seed:\n",
    "        random.seed(123)\n",
    "\n",
    "    if is_shuffled:\n",
    "        random.shuffle(g)\n",
    "\n",
    "    graphs_len = len(g)\n",
    "    return g[int(specs.test_ratio() * graphs_len):], \\\n",
    "           g[0:int(specs.train_ratio() * graphs_len)], \\\n",
    "           g[0:int(specs.validation_ratio() * graphs_len)]\n",
    "\n",
    "def compute_graph_split_len(gv, gt):\n",
    "    \"\"\"\n",
    "    Compute split based on number of nodes and edges\n",
    "\n",
    "    and return normalized value.\n",
    "    @param gv:\n",
    "    @param gt:\n",
    "    @return:\n",
    "    \"\"\"\n",
    "\n",
    "    return sum(g.number_of_nodes() for g in gv) / len(gv), \\\n",
    "           sum(g.number_of_nodes() for g in gt) / len(gt)\n",
    "\n",
    "def draw_samples(trainer_spec: ModelSpecs, from_epoch=None, limit=None, graph_type=TRAIN,\n",
    "                 num_samples=10):\n",
    "    \"\"\"\n",
    "\n",
    "     Reads spool dir for generated sample and plot each.\n",
    "\n",
    "    \"\"\"\n",
    "    fmtl_print(\"Train graph\", trainer_spec.get_active_train_graph())\n",
    "    fmtl_print(\"Train graph spec\", trainer_spec.get_active_train_graph_spec())\n",
    "    fmtl_print(\"Prediction files\", trainer_spec.get_active_model_prediction_files())\n",
    "    fmtl_print(\"Last saved epoch\", trainer_spec.get_last_saved_epoc())\n",
    "    fmtl_print(\"Last graph stat\", trainer_spec.get_last_graph_stat())\n",
    "\n",
    "    last_saved_epoch = trainer_spec.get_last_saved_epoc()['node_model']\n",
    "    graphs = trainer_spec.get_last_graph_stat()\n",
    "\n",
    "    for i, g in enumerate(graphs):\n",
    "        file_name = trainer_spec.generate_prediction_figure_name(last_saved_epoch, sample_time=1, gid=i)\n",
    "        draw_single_graph(g, file_name=file_name, plot_type='prediction', graph_name=\"test\")\n",
    "\n",
    "def prepare(trainer_spec : ModelSpecs):\n",
    "    \"\"\"\n",
    "    Prepare dir , clean up etc.\n",
    "    \"\"\"\n",
    "    trainer_spec.build_dir()\n",
    "    trainer_spec.setup_tensorflow()\n",
    "\n",
    "\n",
    "def create_dataset_sampler(trainer_spec: ModelSpecs, graphs, num_workers=None):\n",
    "    \"\"\"\n",
    "\n",
    "    @param trainer_spec: trainer specification, include strategy how to sample ration etc.\n",
    "    @param graphs: a graph that we use to train network\n",
    "    @param num_workers:\n",
    "    @return: return torch.util.data.DataLoader\n",
    "    \"\"\"\n",
    "    # dataset initialization\n",
    "    if trainer_spec.max_prev_node() > 0:\n",
    "        dataset = GraphSeqSampler(graphs,\n",
    "                                  max_prev_node=trainer_spec.max_prev_node(),\n",
    "                                  max_num_node=trainer_spec.max_num_node())\n",
    "    else:\n",
    "        dataset = GraphSeqSampler(graphs)\n",
    "\n",
    "    normalized_weight = [1.0 / len(dataset) for i in range(len(dataset))]\n",
    "    sample_strategy = tutil.data.sampler.WeightedRandomSampler(normalized_weight,\n",
    "                                                               num_samples=trainer_spec.compute_num_samples(),\n",
    "                                                               replacement=True)\n",
    "\n",
    "    _num_workers = trainer_spec.num_workers()\n",
    "    if num_workers is not None:\n",
    "        _num_workers = num_workers\n",
    "\n",
    "    dataset_loader = tutil.data.DataLoader(dataset,\n",
    "                                           batch_size=trainer_spec.batch_size(),\n",
    "                                           num_workers=_num_workers,\n",
    "                                           sampler=sample_strategy,\n",
    "                                           pin_memory=False)\n",
    "\n",
    "    return dataset_loader\n",
    "\n",
    "\n",
    "def clean_graphs(graph_real, graph_pred, is_shuffle=True):\n",
    "    \"\"\"\n",
    "    Selecting graphs generated that have the similar sizes.\n",
    "    It is usually necessary for GraphRNN-S version, but not the full GraphRNN model.\n",
    "    \"\"\"\n",
    "\n",
    "    #\n",
    "    if is_shuffle:\n",
    "        random.shuffle(graph_real)\n",
    "        random.shuffle(graph_pred)\n",
    "\n",
    "    # get length\n",
    "    real_graph_len = np.array([len(graph_real[i]) for i in range(len(graph_real))])\n",
    "    pred_graph_len = np.array([len(graph_pred[i]) for i in range(len(graph_pred))])\n",
    "\n",
    "    fmt_print(\"Real graph size\", real_graph_len)\n",
    "    fmt_print(\"Prediction graph size\", pred_graph_len)\n",
    "\n",
    "    # # select pred samples\n",
    "    # # The number of nodes are sampled from the similar distribution as the training set\n",
    "    # pred_graph_new = []\n",
    "    # pred_graph_len_new = []\n",
    "    # for value in real_graph_len:\n",
    "    #     pred_idx = find_nearest_idx(pred_graph_len, value)\n",
    "    #     pred_graph_new.append(graph_pred[pred_idx])\n",
    "    #     pred_graph_len_new.append(pred_graph_len[pred_idx])\n",
    "    # return graph_real, pred_graph_new\n",
    "\n",
    "\n",
    "def compute_generic_stats(epoch_predicted):\n",
    "    \"\"\"\n",
    "\n",
    "    \"\"\"\n",
    "    graph_pred_aver = 0\n",
    "    for graph in epoch_predicted:\n",
    "        graph_pred_aver += graph.number_of_nodes()\n",
    "\n",
    "    graph_pred_aver /= len(epoch_predicted)\n",
    "    fmt_print('Prediction average number of nodes', graph_pred_aver)\n",
    "\n",
    "\n",
    "def evaluate(cmds, trainer_spec: ModelSpecs,\n",
    "             epoch_start=1,\n",
    "             epoch_step=1):\n",
    "    # get a graphs\n",
    "    try:\n",
    "        train_graph, graph_in_test = trainer_spec.load_train_test()\n",
    "        graph_test_len = len(train_graph)\n",
    "    except FileNotFoundError:\n",
    "        print(\"No graph file found.\")\n",
    "        return\n",
    "\n",
    "    graph_train = train_graph[0:int(0.8 * graph_test_len)]  # train\n",
    "    # graph_validate = train_graph[0:int(0.2 * graph_test_len)]  # validate\n",
    "    # graph_test = train_graph[int(0.8 * graph_test_len):]       # test on a hold out test set\n",
    "\n",
    "    graph_test_aver = 0\n",
    "    for graph in graph_in_test:\n",
    "        graph_test_aver += graph.number_of_nodes()\n",
    "\n",
    "    graph_test_aver /= len(graph_in_test)\n",
    "\n",
    "    print('test average len', graph_test_aver)\n",
    "    predictions = trainer_spec.get_prediction_graph()\n",
    "\n",
    "    # x_df = pd.DataFrame(x_np)\n",
    "\n",
    "    # x_np = x.numpy()\n",
    "    for i, (file_name, epoch_predicted) in enumerate(predictions):\n",
    "        if i < 27:\n",
    "            continue\n",
    "\n",
    "        print(i, file_name)\n",
    "        print(\"Computing statistic for\", file_name)\n",
    "        # get filename\n",
    "        # fname_pred = trainer_spec.prediction_filename(epoch, sample_time)\n",
    "        # graph_pred = load_graph_from_file(fname_pred, is_real=False)\n",
    "        #\n",
    "        # clean graphs\n",
    "        # if is_clean:\n",
    "        #     graph_test, graph_pred = clean_graphs(graph_test, graph_pred)\n",
    "        # else:\n",
    "        #     shuffle(graph_pred)\n",
    "        #     graph_pred = graph_pred[0:len(graph_test)]\n",
    "        #\n",
    "        fmt_print('Graph in test:', len(graph_in_test))\n",
    "        fmt_print('Graph in prediction:', len(epoch_predicted))\n",
    "\n",
    "        #\n",
    "        compute_generic_stats(epoch_predicted)\n",
    "        clean_graphs(graph_in_test, epoch_predicted)\n",
    "\n",
    "        #\n",
    "        # # evaluate MMD test\n",
    "        mmd_degree = -1\n",
    "        if trainer_spec.mmd_degree():\n",
    "            mmd_degree = degree_stats(graph_in_test, epoch_predicted)\n",
    "            fmt_print('Evaluated MMD:', mmd_degree)\n",
    "        #\n",
    "        mmd_clustering = -1\n",
    "        if trainer_spec.mmd_clustering():\n",
    "            mmd_clustering = clustering_stats(graph_in_test, epoch_predicted)\n",
    "            fmt_print('Graph clustering:', mmd_clustering)\n",
    "        #\n",
    "        mmd_4orbits = -1\n",
    "        if trainer_spec.mmd_orbits():\n",
    "            mmd_orbits = orbit_stats_all(graph_in_test, epoch_predicted)\n",
    "            fmt_print('Graph orbit:', mmd_4orbits)\n",
    "\n",
    "        # x_np = [i] = [mmd_degree, mmd_clustering, mmd_orbits]\n",
    "        print('degree', mmd_degree, 'clustering', mmd_clustering, 'orbits', mmd_4orbits)\n",
    "\n",
    "    # x_df.to_csv('tmp.csv')\n",
    "\n",
    "\n",
    "def main_train(cmds, trainer_spec: ModelSpecs):\n",
    "    \"\"\"\n",
    "\n",
    "    \"\"\"\n",
    "    # prepare test environment\n",
    "    prepare(trainer_spec)\n",
    "\n",
    "    # create model creator\n",
    "    model_creator = ModelCreator(trainer_spec, device)\n",
    "\n",
    "    # model graph specs\n",
    "    print(\"###############################################\")\n",
    "    fmtl_print(\"Creating graphs type\", trainer_spec.active)\n",
    "    fmtl_print(\"Maximum previous node to track\", trainer_spec.max_prev_node())\n",
    "    fmtl_print(\"Maximum nodes to track\", trainer_spec.max_num_node())\n",
    "\n",
    "    # create dataset based on specs in config.yaml\n",
    "    graph_spec = trainer_spec.max_prev_node()\n",
    "    graphs = create_graphs.create(trainer_spec)\n",
    "    max_num_node = max([graphs[i].number_of_nodes() for i in range(len(graphs))])\n",
    "    min_num_edge = min([graphs[i].number_of_edges() for i in range(len(graphs))])\n",
    "    max_num_edge = max([graphs[i].number_of_edges() for i in range(len(graphs))])\n",
    "\n",
    "    trainer_spec.trainer_spec = trainer_spec.set_max_num_node(max_num_node)\n",
    "    #\n",
    "    fmtl_print('traing/test/val ratio', trainer_spec.train_ratio(),\n",
    "               trainer_spec.test_ratio(), trainer_spec.validation_ratio())\n",
    "    fmtl_print('max previous node', trainer_spec.max_prev_node())\n",
    "    fmtl_print('max number node', trainer_spec.max_num_node())\n",
    "    fmtl_print('max/min number edge', max_num_edge, min_num_edge)\n",
    "\n",
    "    # compute splits\n",
    "    graphs_test, graphs_train, graphs_validate = generate_train_test(graphs, trainer_spec)\n",
    "    graph_validate_len, graph_test_len = compute_graph_split_len(graphs_validate, graphs_test)\n",
    "    fmtl_print('total/train/test/validate sizes', len(graphs), len(graphs_train), len(graphs_test),\n",
    "               len(graphs_validate))\n",
    "    fmtl_print('validation/test', graph_validate_len, graph_test_len)\n",
    "    fmtl_print('total graph number, training subset', len(graphs), len(graphs_train))\n",
    "    print(\"###############################################\")\n",
    "\n",
    "    # load_pretrained(trainer_spec)\n",
    "    # save ground truth graphs\n",
    "    # To get train and test set, after loading you need to manually slice\n",
    "    GeneratorTrainer.save_graphs(graphs, str(trainer_spec.train_graph_file()))\n",
    "    GeneratorTrainer.save_graphs(graphs, str(trainer_spec.test_graph_file()))\n",
    "\n",
    "    # plot training set if needed\n",
    "    if cmds is not None and cmds.plot == 'train':\n",
    "        plot.draw_samples_from_file(trainer_spec.train_graph_file(), plot_type='train',\n",
    "                                    file_prefix=trainer_spec.train_plot_filename(),\n",
    "                                    num_samples=10)\n",
    "\n",
    "    dataset_loader = create_dataset_sampler(trainer_spec, graphs_train)\n",
    "\n",
    "    if trainer_spec.is_read_benchmark():\n",
    "        read_start_timer = time.monotonic()\n",
    "        for _, _ in enumerate(dataset_loader):\n",
    "            pass\n",
    "        read_stop_timer = time.monotonic()\n",
    "        fmt_print(\"Dataset read time\", timedelta(seconds=read_stop_timer - read_start_timer), \"sec\")\n",
    "        return\n",
    "\n",
    "    models = model_creator.create_model(verbose=True)\n",
    "    if trainer_spec.is_train_network():\n",
    "        decoder = AdjacencyDecoder()\n",
    "        trainer = model_creator.create_trainer(dataset_loader, models, decoder)\n",
    "        trainer.train()\n",
    "\n",
    "\n",
    "def main_trainer(trainer_spec: ModelSpecs):\n",
    "    \"\"\"\n",
    "    Main entry\n",
    "    @param cmds:\n",
    "    @param trainer_spec:\n",
    "    @return:\n",
    "    \"\"\"\n",
    "\n",
    "    if trainer_spec.is_train_network():\n",
    "        main_train(None, trainer_spec)\n",
    "\n",
    "    if trainer_spec.is_draw_samples():\n",
    "        if not trainer_spec.is_trainer():\n",
    "            sys.exit(\"Check configuration file,  it looks like model {} \"\n",
    "                     \"is untrained.\".format(trainer_spec.get_active_model()))\n",
    "        draw_samples(trainer_spec)\n",
    "\n",
    "    if trainer_spec.is_evaluate():\n",
    "        if not trainer_spec.is_trainer():\n",
    "            sys.exit(\"Check configuration file,  it looks like model {} \"\n",
    "                     \"is untrained.\".format(trainer_spec.get_active_model))\n",
    "        evaluate(None, trainer_spec)"
   ],
   "execution_count": 19,
   "outputs": []
  },
  {
   "cell_type": "markdown",
   "metadata": {
    "id": "p3fUlwNrngXm"
   },
   "source": [
    ""
   ]
  },
  {
   "cell_type": "code",
   "metadata": {
    "pycharm": {
     "name": "#%%\n",
     "is_executing": true
    },
    "colab": {
     "base_uri": "https://localhost:8080/",
     "height": 1000,
     "referenced_widgets": [
      "1ffa5aac1f694d62b70886f14b1ec139",
      "5233d8222a69403eb0b2babce82da41c",
      "37f1299eeef848359cd71eab95309890",
      "9735f1aa127942c98ff07362e7766646",
      "644b300f5eda4b5ca488dcc42c1c5286",
      "bd05ad9fc8eb4b4a8c1ba0ee5957aafe",
      "c318f0e4883a4775a2417aa14cab341c",
      "ab15002cf53e4cb78fd15c211c48a3ce",
      "d66a5240e52247d38bae20b5ef61c070",
      "5ebd9ef4f1d94af4a21c744c546f66e3",
      "39d76c8dd1dd4b7fba7ec98b9b0b75bb"
     ]
    },
    "id": "VC9U4yHengXn",
    "outputId": "a613054c-2e5f-4292-d4e0-f1792417071f"
   },
   "source": [
    "trainer_spec = ModelSpecs(template_file_name=io.StringIO(trainer_config), verbose=True)\n",
    "model_specs = trainer_spec.get_active_model_spec()\n",
    "model_specs\n",
    "\n",
    "fmtl_print(\"Torch cudnn backend version: \", torch.backends.cudnn.version())\n",
    "fmtl_print(\"Model in training mode\", trainer_spec.is_train_network())\n",
    "fmtl_print(\"Model in evaluate mode\", trainer_spec.is_evaluate())\n",
    "fmtl_print(\"Model in generate sample\", trainer_spec.is_draw_samples())\n",
    "fmtl_print(\"Model active dataset\", trainer_spec.active)\n",
    "fmtl_print(\"Model active dataset\", trainer_spec.epochs())\n",
    "fmtl_print(\"Model active dataset\", trainer_spec.batch_size())\n",
    "fmtl_print(\"Model number of layers\", trainer_spec.num_layers())\n",
    "fmtl_print(\"Active model\", trainer_spec.active_model)\n",
    "\n",
    "# run\n",
    "main_trainer(trainer_spec)"
   ],
   "execution_count": null,
   "outputs": [
    {
     "output_type": "stream",
     "name": "stdout",
     "text": [
      "Device:                          cuda\n",
      "Reading from io buffer\n",
      "Torch cudnn backend version: :   8005\n",
      "Model in training mode:          True\n",
      "Model in evaluate mode:          True\n",
      "Model in generate sample:        True\n",
      "Model active dataset:            grid_small\n",
      "Model active dataset:            500\n",
      "Model active dataset:            32\n",
      "Model number of layers:          4\n",
      "Active model:                    GraphGruRnn\n",
      "tensorboard log dir:      logs\n",
      "###############################################\n",
      "Creating graphs type:            grid_small\n",
      "Maximum previous node to track:  15\n",
      "Maximum nodes to track:          0\n",
      "Generating grid graph type: backend nx\n",
      "Synthetic grid's n and m: ([2, 5], [2, 6])\n",
      "traing/test/val ratio:           (0.8, 0.8, 0.2)\n",
      "max previous node:               15\n",
      "max number node:                 20\n",
      "max/min number edge:             (31, 4)\n",
      "total/train/test/validate sizes: (12, 9, 3, 2)\n",
      "validation/test:                 (12.0, 5.333333333333333)\n",
      "total graph number, training subset: (12, 9)\n",
      "###############################################\n",
      "\n",
      "Model sub-models:                ['node_model', 'edge_model']\n",
      "Model node_model lr scheduler:   main_lr_scheduler\n",
      "Model node_model scheduler type: multistep\n",
      "Model node_model optimizer name: node_optimizer\n",
      "Model node_model optimizer spec: Adam\n",
      "Model edge_model lr scheduler:   main_lr_scheduler\n",
      "Model edge_model scheduler type: multistep\n",
      "Model edge_model optimizer name: edge_optimizer\n",
      "Model edge_model optimizer spec: Adam\n",
      "Creating generator:       RnnGenerator\n",
      "Creating node_optimizer type optimizer.: Adam\n",
      "Creating node_optimizer lr:      0.003\n",
      "Creating node_optimizer betas:   [0.9, 0.999]\n",
      "Creating node_optimizer eps:     1e-08\n",
      "Creating node_optimizer weight decay: 0.0\n",
      "Creating node_optimizer amsgrad: False\n",
      "Creating edge_optimizer type optimizer.: Adam\n",
      "Creating edge_optimizer lr:      0.003\n",
      "Creating edge_optimizer betas:   [0.9, 0.999]\n",
      "Creating edge_optimizer eps:     1e-08\n",
      "Creating edge_optimizer weight decay: 0.0\n",
      "Creating edge_optimizer amsgrad: False\n",
      "Creating main_lr_scheduler lr scheduler.: multistep\n",
      "Creating main_lr_scheduler lr scheduler.: multistep\n",
      "{'node_model': {'model': 'GraphGRU', 'optimizer': 'node_optimizer', 'lr_scheduler': 'main_lr_scheduler', 'has_input': True, 'has_output': True}, 'edge_model': {'model': 'GraphGRU', 'optimizer': 'edge_optimizer', 'lr_scheduler': 'main_lr_scheduler', 'input_size': 1}}\n",
      "attempting to load GraphGruRnn model node weights state_dict loaded...\n",
      "Failed load model files. No saved model found.\n"
     ]
    },
    {
     "output_type": "display_data",
     "data": {
      "application/vnd.jupyter.widget-view+json": {
       "model_id": "1ffa5aac1f694d62b70886f14b1ec139",
       "version_minor": 0,
       "version_major": 2
      },
      "text/plain": [
       "  0%|          | 0/500 [00:00<?, ?it/s]"
      ]
     },
     "metadata": {}
    },
    {
     "output_type": "stream",
     "name": "stdout",
     "text": [
      "Saving graph image, type training to tensorboard\n",
      "Saving graph to a file :  results/prediction/grid_small_GraphGruRnn__layers_4_hidden_64_predictions_epoch_10_sample_1.dat\n",
      "Saving graph image, type training to tensorboard\n",
      "Saving graph to a file :  results/prediction/grid_small_GraphGruRnn__layers_4_hidden_64_predictions_epoch_10_sample_2.dat\n",
      "Saving graph image, type training to tensorboard\n",
      "Saving graph to a file :  results/prediction/grid_small_GraphGruRnn__layers_4_hidden_64_predictions_epoch_10_sample_3.dat\n",
      "Saving graph image, type training to tensorboard\n",
      "Saving graph to a file :  results/prediction/grid_small_GraphGruRnn__layers_4_hidden_64_predictions_epoch_20_sample_1.dat\n",
      "Saving graph image, type training to tensorboard\n",
      "Saving graph to a file :  results/prediction/grid_small_GraphGruRnn__layers_4_hidden_64_predictions_epoch_20_sample_2.dat\n",
      "Saving graph image, type training to tensorboard\n",
      "Saving graph to a file :  results/prediction/grid_small_GraphGruRnn__layers_4_hidden_64_predictions_epoch_20_sample_3.dat\n",
      "Saving graph image, type training to tensorboard\n",
      "Saving graph to a file :  results/prediction/grid_small_GraphGruRnn__layers_4_hidden_64_predictions_epoch_30_sample_1.dat\n",
      "Saving graph image, type training to tensorboard\n",
      "Saving graph to a file :  results/prediction/grid_small_GraphGruRnn__layers_4_hidden_64_predictions_epoch_30_sample_2.dat\n",
      "Saving graph image, type training to tensorboard\n",
      "Saving graph to a file :  results/prediction/grid_small_GraphGruRnn__layers_4_hidden_64_predictions_epoch_30_sample_3.dat\n",
      "Saving graph image, type training to tensorboard\n",
      "Saving graph to a file :  results/prediction/grid_small_GraphGruRnn__layers_4_hidden_64_predictions_epoch_40_sample_1.dat\n",
      "Saving graph image, type training to tensorboard\n",
      "Saving graph to a file :  results/prediction/grid_small_GraphGruRnn__layers_4_hidden_64_predictions_epoch_40_sample_2.dat\n",
      "Saving graph image, type training to tensorboard\n",
      "Saving graph to a file :  results/prediction/grid_small_GraphGruRnn__layers_4_hidden_64_predictions_epoch_40_sample_3.dat\n",
      "Saving graph image, type training to tensorboard\n",
      "Saving graph to a file :  results/prediction/grid_small_GraphGruRnn__layers_4_hidden_64_predictions_epoch_50_sample_1.dat\n",
      "Saving graph image, type training to tensorboard\n",
      "Saving graph to a file :  results/prediction/grid_small_GraphGruRnn__layers_4_hidden_64_predictions_epoch_50_sample_2.dat\n",
      "Saving graph image, type training to tensorboard\n",
      "Saving graph to a file :  results/prediction/grid_small_GraphGruRnn__layers_4_hidden_64_predictions_epoch_50_sample_3.dat\n",
      "Saving graph image, type training to tensorboard\n",
      "Saving graph to a file :  results/prediction/grid_small_GraphGruRnn__layers_4_hidden_64_predictions_epoch_60_sample_1.dat\n",
      "Saving graph image, type training to tensorboard\n",
      "Saving graph to a file :  results/prediction/grid_small_GraphGruRnn__layers_4_hidden_64_predictions_epoch_60_sample_2.dat\n",
      "Saving graph image, type training to tensorboard\n",
      "Saving graph to a file :  results/prediction/grid_small_GraphGruRnn__layers_4_hidden_64_predictions_epoch_60_sample_3.dat\n",
      "Saving graph image, type training to tensorboard\n",
      "Saving graph to a file :  results/prediction/grid_small_GraphGruRnn__layers_4_hidden_64_predictions_epoch_70_sample_1.dat\n",
      "Saving graph image, type training to tensorboard\n",
      "Saving graph to a file :  results/prediction/grid_small_GraphGruRnn__layers_4_hidden_64_predictions_epoch_70_sample_2.dat\n",
      "Saving graph image, type training to tensorboard\n",
      "Saving graph to a file :  results/prediction/grid_small_GraphGruRnn__layers_4_hidden_64_predictions_epoch_70_sample_3.dat\n",
      "Saving graph image, type training to tensorboard\n",
      "Saving graph to a file :  results/prediction/grid_small_GraphGruRnn__layers_4_hidden_64_predictions_epoch_80_sample_1.dat\n",
      "Saving graph image, type training to tensorboard\n",
      "Saving graph to a file :  results/prediction/grid_small_GraphGruRnn__layers_4_hidden_64_predictions_epoch_80_sample_2.dat\n",
      "Saving graph image, type training to tensorboard\n",
      "Saving graph to a file :  results/prediction/grid_small_GraphGruRnn__layers_4_hidden_64_predictions_epoch_80_sample_3.dat\n",
      "Saving graph image, type training to tensorboard\n",
      "Saving graph to a file :  results/prediction/grid_small_GraphGruRnn__layers_4_hidden_64_predictions_epoch_90_sample_1.dat\n",
      "Saving graph image, type training to tensorboard\n",
      "Saving graph to a file :  results/prediction/grid_small_GraphGruRnn__layers_4_hidden_64_predictions_epoch_90_sample_2.dat\n",
      "Saving graph image, type training to tensorboard\n",
      "Saving graph to a file :  results/prediction/grid_small_GraphGruRnn__layers_4_hidden_64_predictions_epoch_90_sample_3.dat\n",
      "Saving graph image, type training to tensorboard\n",
      "Saving graph to a file :  results/prediction/grid_small_GraphGruRnn__layers_4_hidden_64_predictions_epoch_100_sample_1.dat\n",
      "Saving graph image, type training to tensorboard\n",
      "Saving graph to a file :  results/prediction/grid_small_GraphGruRnn__layers_4_hidden_64_predictions_epoch_100_sample_2.dat\n",
      "Saving graph image, type training to tensorboard\n",
      "Saving graph to a file :  results/prediction/grid_small_GraphGruRnn__layers_4_hidden_64_predictions_epoch_100_sample_3.dat\n",
      "Saving graph image, type training to tensorboard\n",
      "Saving graph to a file :  results/prediction/grid_small_GraphGruRnn__layers_4_hidden_64_predictions_epoch_110_sample_1.dat\n",
      "Saving graph image, type training to tensorboard\n",
      "Saving graph to a file :  results/prediction/grid_small_GraphGruRnn__layers_4_hidden_64_predictions_epoch_110_sample_2.dat\n",
      "Saving graph image, type training to tensorboard\n",
      "Saving graph to a file :  results/prediction/grid_small_GraphGruRnn__layers_4_hidden_64_predictions_epoch_110_sample_3.dat\n",
      "Saving graph image, type training to tensorboard\n",
      "Saving graph to a file :  results/prediction/grid_small_GraphGruRnn__layers_4_hidden_64_predictions_epoch_120_sample_1.dat\n",
      "Saving graph image, type training to tensorboard\n",
      "Saving graph to a file :  results/prediction/grid_small_GraphGruRnn__layers_4_hidden_64_predictions_epoch_120_sample_2.dat\n",
      "Saving graph image, type training to tensorboard\n",
      "Saving graph to a file :  results/prediction/grid_small_GraphGruRnn__layers_4_hidden_64_predictions_epoch_120_sample_3.dat\n",
      "Saving graph image, type training to tensorboard\n",
      "Saving graph to a file :  results/prediction/grid_small_GraphGruRnn__layers_4_hidden_64_predictions_epoch_130_sample_1.dat\n",
      "Saving graph image, type training to tensorboard\n",
      "Saving graph to a file :  results/prediction/grid_small_GraphGruRnn__layers_4_hidden_64_predictions_epoch_130_sample_2.dat\n",
      "Saving graph image, type training to tensorboard\n",
      "Saving graph to a file :  results/prediction/grid_small_GraphGruRnn__layers_4_hidden_64_predictions_epoch_130_sample_3.dat\n",
      "Saving graph image, type training to tensorboard\n",
      "Saving graph to a file :  results/prediction/grid_small_GraphGruRnn__layers_4_hidden_64_predictions_epoch_140_sample_1.dat\n",
      "Saving graph image, type training to tensorboard\n",
      "Saving graph to a file :  results/prediction/grid_small_GraphGruRnn__layers_4_hidden_64_predictions_epoch_140_sample_2.dat\n",
      "Saving graph image, type training to tensorboard\n",
      "Saving graph to a file :  results/prediction/grid_small_GraphGruRnn__layers_4_hidden_64_predictions_epoch_140_sample_3.dat\n",
      "Saving graph image, type training to tensorboard\n",
      "Saving graph to a file :  results/prediction/grid_small_GraphGruRnn__layers_4_hidden_64_predictions_epoch_150_sample_1.dat\n",
      "Saving graph image, type training to tensorboard\n",
      "Saving graph to a file :  results/prediction/grid_small_GraphGruRnn__layers_4_hidden_64_predictions_epoch_150_sample_2.dat\n",
      "Saving graph image, type training to tensorboard\n",
      "Saving graph to a file :  results/prediction/grid_small_GraphGruRnn__layers_4_hidden_64_predictions_epoch_150_sample_3.dat\n",
      "Saving graph image, type training to tensorboard\n",
      "Saving graph to a file :  results/prediction/grid_small_GraphGruRnn__layers_4_hidden_64_predictions_epoch_160_sample_1.dat\n",
      "Saving graph image, type training to tensorboard\n",
      "Saving graph to a file :  results/prediction/grid_small_GraphGruRnn__layers_4_hidden_64_predictions_epoch_160_sample_2.dat\n",
      "Saving graph image, type training to tensorboard\n",
      "Saving graph to a file :  results/prediction/grid_small_GraphGruRnn__layers_4_hidden_64_predictions_epoch_160_sample_3.dat\n",
      "Saving graph image, type training to tensorboard\n",
      "Saving graph to a file :  results/prediction/grid_small_GraphGruRnn__layers_4_hidden_64_predictions_epoch_170_sample_1.dat\n",
      "Saving graph image, type training to tensorboard\n",
      "Saving graph to a file :  results/prediction/grid_small_GraphGruRnn__layers_4_hidden_64_predictions_epoch_170_sample_2.dat\n",
      "Saving graph image, type training to tensorboard\n",
      "Saving graph to a file :  results/prediction/grid_small_GraphGruRnn__layers_4_hidden_64_predictions_epoch_170_sample_3.dat\n",
      "Saving graph image, type training to tensorboard\n",
      "Saving graph to a file :  results/prediction/grid_small_GraphGruRnn__layers_4_hidden_64_predictions_epoch_180_sample_1.dat\n",
      "Saving graph image, type training to tensorboard\n",
      "Saving graph to a file :  results/prediction/grid_small_GraphGruRnn__layers_4_hidden_64_predictions_epoch_180_sample_2.dat\n",
      "Saving graph image, type training to tensorboard\n",
      "Saving graph to a file :  results/prediction/grid_small_GraphGruRnn__layers_4_hidden_64_predictions_epoch_180_sample_3.dat\n",
      "Saving graph image, type training to tensorboard\n",
      "Saving graph to a file :  results/prediction/grid_small_GraphGruRnn__layers_4_hidden_64_predictions_epoch_190_sample_1.dat\n",
      "Saving graph image, type training to tensorboard\n",
      "Saving graph to a file :  results/prediction/grid_small_GraphGruRnn__layers_4_hidden_64_predictions_epoch_190_sample_2.dat\n",
      "Saving graph image, type training to tensorboard\n",
      "Saving graph to a file :  results/prediction/grid_small_GraphGruRnn__layers_4_hidden_64_predictions_epoch_190_sample_3.dat\n",
      "Saving graph image, type training to tensorboard\n",
      "Saving graph to a file :  results/prediction/grid_small_GraphGruRnn__layers_4_hidden_64_predictions_epoch_200_sample_1.dat\n",
      "Saving graph image, type training to tensorboard\n",
      "Saving graph to a file :  results/prediction/grid_small_GraphGruRnn__layers_4_hidden_64_predictions_epoch_200_sample_2.dat\n",
      "Saving graph image, type training to tensorboard\n",
      "Saving graph to a file :  results/prediction/grid_small_GraphGruRnn__layers_4_hidden_64_predictions_epoch_200_sample_3.dat\n",
      "Saving graph image, type training to tensorboard\n",
      "Saving graph to a file :  results/prediction/grid_small_GraphGruRnn__layers_4_hidden_64_predictions_epoch_210_sample_1.dat\n",
      "Saving graph image, type training to tensorboard\n",
      "Saving graph to a file :  results/prediction/grid_small_GraphGruRnn__layers_4_hidden_64_predictions_epoch_210_sample_2.dat\n",
      "Saving graph image, type training to tensorboard\n",
      "Saving graph to a file :  results/prediction/grid_small_GraphGruRnn__layers_4_hidden_64_predictions_epoch_210_sample_3.dat\n",
      "Saving graph image, type training to tensorboard\n",
      "Saving graph to a file :  results/prediction/grid_small_GraphGruRnn__layers_4_hidden_64_predictions_epoch_220_sample_1.dat\n",
      "Saving graph image, type training to tensorboard\n",
      "Saving graph to a file :  results/prediction/grid_small_GraphGruRnn__layers_4_hidden_64_predictions_epoch_220_sample_2.dat\n",
      "Saving graph image, type training to tensorboard\n",
      "Saving graph to a file :  results/prediction/grid_small_GraphGruRnn__layers_4_hidden_64_predictions_epoch_220_sample_3.dat\n",
      "Saving graph image, type training to tensorboard\n",
      "Saving graph to a file :  results/prediction/grid_small_GraphGruRnn__layers_4_hidden_64_predictions_epoch_230_sample_1.dat\n",
      "Saving graph image, type training to tensorboard\n",
      "Saving graph to a file :  results/prediction/grid_small_GraphGruRnn__layers_4_hidden_64_predictions_epoch_230_sample_2.dat\n",
      "Saving graph image, type training to tensorboard\n",
      "Saving graph to a file :  results/prediction/grid_small_GraphGruRnn__layers_4_hidden_64_predictions_epoch_230_sample_3.dat\n",
      "Saving graph image, type training to tensorboard\n",
      "Saving graph to a file :  results/prediction/grid_small_GraphGruRnn__layers_4_hidden_64_predictions_epoch_240_sample_1.dat\n",
      "Saving graph image, type training to tensorboard\n",
      "Saving graph to a file :  results/prediction/grid_small_GraphGruRnn__layers_4_hidden_64_predictions_epoch_240_sample_2.dat\n",
      "Saving graph image, type training to tensorboard\n",
      "Saving graph to a file :  results/prediction/grid_small_GraphGruRnn__layers_4_hidden_64_predictions_epoch_240_sample_3.dat\n",
      "Saving graph image, type training to tensorboard\n",
      "Saving graph to a file :  results/prediction/grid_small_GraphGruRnn__layers_4_hidden_64_predictions_epoch_250_sample_1.dat\n",
      "Saving graph image, type training to tensorboard\n",
      "Saving graph to a file :  results/prediction/grid_small_GraphGruRnn__layers_4_hidden_64_predictions_epoch_250_sample_2.dat\n",
      "Saving graph image, type training to tensorboard\n",
      "Saving graph to a file :  results/prediction/grid_small_GraphGruRnn__layers_4_hidden_64_predictions_epoch_250_sample_3.dat\n",
      "Saving graph image, type training to tensorboard\n",
      "Saving graph to a file :  results/prediction/grid_small_GraphGruRnn__layers_4_hidden_64_predictions_epoch_260_sample_1.dat\n",
      "Saving graph image, type training to tensorboard\n",
      "Saving graph to a file :  results/prediction/grid_small_GraphGruRnn__layers_4_hidden_64_predictions_epoch_260_sample_2.dat\n",
      "Saving graph image, type training to tensorboard\n",
      "Saving graph to a file :  results/prediction/grid_small_GraphGruRnn__layers_4_hidden_64_predictions_epoch_260_sample_3.dat\n",
      "Saving graph image, type training to tensorboard\n",
      "Saving graph to a file :  results/prediction/grid_small_GraphGruRnn__layers_4_hidden_64_predictions_epoch_270_sample_1.dat\n",
      "Saving graph image, type training to tensorboard\n",
      "Saving graph to a file :  results/prediction/grid_small_GraphGruRnn__layers_4_hidden_64_predictions_epoch_270_sample_2.dat\n",
      "Saving graph image, type training to tensorboard\n",
      "Saving graph to a file :  results/prediction/grid_small_GraphGruRnn__layers_4_hidden_64_predictions_epoch_270_sample_3.dat\n",
      "Saving graph image, type training to tensorboard\n",
      "Saving graph to a file :  results/prediction/grid_small_GraphGruRnn__layers_4_hidden_64_predictions_epoch_280_sample_1.dat\n",
      "Saving graph image, type training to tensorboard\n",
      "Saving graph to a file :  results/prediction/grid_small_GraphGruRnn__layers_4_hidden_64_predictions_epoch_280_sample_2.dat\n",
      "Saving graph image, type training to tensorboard\n",
      "Saving graph to a file :  results/prediction/grid_small_GraphGruRnn__layers_4_hidden_64_predictions_epoch_280_sample_3.dat\n",
      "Saving graph image, type training to tensorboard\n",
      "Saving graph to a file :  results/prediction/grid_small_GraphGruRnn__layers_4_hidden_64_predictions_epoch_290_sample_1.dat\n",
      "Saving graph image, type training to tensorboard\n",
      "Saving graph to a file :  results/prediction/grid_small_GraphGruRnn__layers_4_hidden_64_predictions_epoch_290_sample_2.dat\n",
      "Saving graph image, type training to tensorboard\n",
      "Saving graph to a file :  results/prediction/grid_small_GraphGruRnn__layers_4_hidden_64_predictions_epoch_290_sample_3.dat\n",
      "Saving graph image, type training to tensorboard\n",
      "Saving graph to a file :  results/prediction/grid_small_GraphGruRnn__layers_4_hidden_64_predictions_epoch_300_sample_1.dat\n",
      "Saving graph image, type training to tensorboard\n",
      "Saving graph to a file :  results/prediction/grid_small_GraphGruRnn__layers_4_hidden_64_predictions_epoch_300_sample_2.dat\n",
      "Saving graph image, type training to tensorboard\n",
      "Saving graph to a file :  results/prediction/grid_small_GraphGruRnn__layers_4_hidden_64_predictions_epoch_300_sample_3.dat\n",
      "Saving graph image, type training to tensorboard\n",
      "Saving graph to a file :  results/prediction/grid_small_GraphGruRnn__layers_4_hidden_64_predictions_epoch_310_sample_1.dat\n",
      "Saving graph image, type training to tensorboard\n",
      "Saving graph to a file :  results/prediction/grid_small_GraphGruRnn__layers_4_hidden_64_predictions_epoch_310_sample_2.dat\n",
      "Saving graph image, type training to tensorboard\n",
      "Saving graph to a file :  results/prediction/grid_small_GraphGruRnn__layers_4_hidden_64_predictions_epoch_310_sample_3.dat\n",
      "Saving graph image, type training to tensorboard\n",
      "Saving graph to a file :  results/prediction/grid_small_GraphGruRnn__layers_4_hidden_64_predictions_epoch_320_sample_1.dat\n",
      "Saving graph image, type training to tensorboard\n",
      "Saving graph to a file :  results/prediction/grid_small_GraphGruRnn__layers_4_hidden_64_predictions_epoch_320_sample_2.dat\n",
      "Saving graph image, type training to tensorboard\n",
      "Saving graph to a file :  results/prediction/grid_small_GraphGruRnn__layers_4_hidden_64_predictions_epoch_320_sample_3.dat\n",
      "Saving graph image, type training to tensorboard\n",
      "Saving graph to a file :  results/prediction/grid_small_GraphGruRnn__layers_4_hidden_64_predictions_epoch_330_sample_1.dat\n",
      "Saving graph image, type training to tensorboard\n",
      "Saving graph to a file :  results/prediction/grid_small_GraphGruRnn__layers_4_hidden_64_predictions_epoch_330_sample_2.dat\n",
      "Saving graph image, type training to tensorboard\n",
      "Saving graph to a file :  results/prediction/grid_small_GraphGruRnn__layers_4_hidden_64_predictions_epoch_330_sample_3.dat\n",
      "Saving graph image, type training to tensorboard\n",
      "Saving graph to a file :  results/prediction/grid_small_GraphGruRnn__layers_4_hidden_64_predictions_epoch_340_sample_1.dat\n",
      "Saving graph image, type training to tensorboard\n",
      "Saving graph to a file :  results/prediction/grid_small_GraphGruRnn__layers_4_hidden_64_predictions_epoch_340_sample_2.dat\n",
      "Saving graph image, type training to tensorboard\n",
      "Saving graph to a file :  results/prediction/grid_small_GraphGruRnn__layers_4_hidden_64_predictions_epoch_340_sample_3.dat\n",
      "Saving graph image, type training to tensorboard\n",
      "Saving graph to a file :  results/prediction/grid_small_GraphGruRnn__layers_4_hidden_64_predictions_epoch_350_sample_1.dat\n",
      "Saving graph image, type training to tensorboard\n",
      "Saving graph to a file :  results/prediction/grid_small_GraphGruRnn__layers_4_hidden_64_predictions_epoch_350_sample_2.dat\n",
      "Saving graph image, type training to tensorboard\n",
      "Saving graph to a file :  results/prediction/grid_small_GraphGruRnn__layers_4_hidden_64_predictions_epoch_350_sample_3.dat\n",
      "Saving graph image, type training to tensorboard\n",
      "Saving graph to a file :  results/prediction/grid_small_GraphGruRnn__layers_4_hidden_64_predictions_epoch_360_sample_1.dat\n",
      "Saving graph image, type training to tensorboard\n",
      "Saving graph to a file :  results/prediction/grid_small_GraphGruRnn__layers_4_hidden_64_predictions_epoch_360_sample_2.dat\n",
      "Saving graph image, type training to tensorboard\n",
      "Saving graph to a file :  results/prediction/grid_small_GraphGruRnn__layers_4_hidden_64_predictions_epoch_360_sample_3.dat\n",
      "Saving graph image, type training to tensorboard\n",
      "Saving graph to a file :  results/prediction/grid_small_GraphGruRnn__layers_4_hidden_64_predictions_epoch_370_sample_1.dat\n",
      "Saving graph image, type training to tensorboard\n",
      "Saving graph to a file :  results/prediction/grid_small_GraphGruRnn__layers_4_hidden_64_predictions_epoch_370_sample_2.dat\n",
      "Saving graph image, type training to tensorboard\n",
      "Saving graph to a file :  results/prediction/grid_small_GraphGruRnn__layers_4_hidden_64_predictions_epoch_370_sample_3.dat\n",
      "Saving graph image, type training to tensorboard\n",
      "Saving graph to a file :  results/prediction/grid_small_GraphGruRnn__layers_4_hidden_64_predictions_epoch_380_sample_1.dat\n",
      "Saving graph image, type training to tensorboard\n",
      "Saving graph to a file :  results/prediction/grid_small_GraphGruRnn__layers_4_hidden_64_predictions_epoch_380_sample_2.dat\n",
      "Saving graph image, type training to tensorboard\n",
      "Saving graph to a file :  results/prediction/grid_small_GraphGruRnn__layers_4_hidden_64_predictions_epoch_380_sample_3.dat\n",
      "Saving graph image, type training to tensorboard\n",
      "Saving graph to a file :  results/prediction/grid_small_GraphGruRnn__layers_4_hidden_64_predictions_epoch_390_sample_1.dat\n",
      "Saving graph image, type training to tensorboard\n",
      "Saving graph to a file :  results/prediction/grid_small_GraphGruRnn__layers_4_hidden_64_predictions_epoch_390_sample_2.dat\n",
      "Saving graph image, type training to tensorboard\n",
      "Saving graph to a file :  results/prediction/grid_small_GraphGruRnn__layers_4_hidden_64_predictions_epoch_390_sample_3.dat\n"
     ]
    }
   ]
  },
  {
   "cell_type": "code",
   "metadata": {
    "pycharm": {
     "name": "#%%\n",
     "is_executing": true
    },
    "id": "mK7SGSebngXn"
   },
   "source": [
    ""
   ],
   "execution_count": null,
   "outputs": []
  }
 ]
}